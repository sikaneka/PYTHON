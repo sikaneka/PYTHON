{
 "cells": [
  {
   "cell_type": "markdown",
   "id": "fc0acfe3",
   "metadata": {},
   "source": [
    "## STRINGS"
   ]
  },
  {
   "cell_type": "code",
   "execution_count": 1,
   "id": "41b8be4b",
   "metadata": {},
   "outputs": [
    {
     "name": "stdout",
     "output_type": "stream",
     "text": [
      "Hello\n"
     ]
    }
   ],
   "source": [
    "''' 1.\tGiven the string text = \"Hello World Python\", write code to:\n",
    "•\tGet the first 5 characters if the string length is greater than 10, otherwise get the last 3 characters\n",
    "•\tStore the result in a variable called result'''\n",
    "\n",
    "text=\"Hello World python\"\n",
    "if len(text)>10:\n",
    "    result=text[0:5]\n",
    "    print(result)\n",
    "else:\n",
    "    result=text[-3:]\n",
    "    print(result)\n"
   ]
  },
  {
   "cell_type": "code",
   "execution_count": 2,
   "id": "efd9343b",
   "metadata": {},
   "outputs": [
    {
     "data": {
      "text/plain": [
       "'Alice smith'"
      ]
     },
     "execution_count": 2,
     "metadata": {},
     "output_type": "execute_result"
    }
   ],
   "source": [
    "'''2.\tYou have name = \"alice smith\". Write code to:\n",
    "•\tCapitalize the string if it contains a space, otherwise convert it to uppercase\n",
    "•\tUse a conditional expression (ternary operator)\n",
    "'''\n",
    "\n",
    "name='alice smith'\n",
    "name.capitalize() if (' ' in name) else (name.upper())\n"
   ]
  },
  {
   "cell_type": "code",
   "execution_count": null,
   "id": "9a159eb9",
   "metadata": {},
   "outputs": [
    {
     "name": "stdout",
     "output_type": "stream",
     "text": [
      "Long sentence\n"
     ]
    },
    {
     "data": {
      "text/plain": [
       "['The', 'quick', 'brown', 'fox']"
      ]
     },
     "execution_count": 4,
     "metadata": {},
     "output_type": "execute_result"
    }
   ],
   "source": [
    "'''3.\tGiven sentence = \"The quick brown fox\", create a variable word_count that:\n",
    "•\tContains the number of words in the sentence\n",
    "•\tThen create message that says \"Long sentence\" if word_count > 3, else \"Short sentence\"\n",
    "'''\n",
    "\n",
    "sentence=\"The quick brown fox\"\n",
    "word_count=len(sentence.split())\n",
    "\n",
    "if word_count>3:\n",
    "    print(\"Long sentence\")\n",
    "else :\n",
    "    print(\"short sentence\")\n"
   ]
  },
  {
   "cell_type": "code",
   "execution_count": 6,
   "id": "09cafc3e",
   "metadata": {},
   "outputs": [
    {
     "name": "stdout",
     "output_type": "stream",
     "text": [
      "user\n"
     ]
    }
   ],
   "source": [
    "'''4.\tYou have email = \"user@example.com\". Write code to:\n",
    "•\tExtract the username (part before @) if email contains @, otherwise return \"Invalid\"\n",
    "•\tStore in variable username\n",
    "'''\n",
    "email=\"user@example.com\"\n",
    "if '@' in email:\n",
    "    print(email[:email.find('@')])\n",
    "else:\n",
    "    print(\"Invalid\")\n",
    "\n"
   ]
  },
  {
   "cell_type": "code",
   "execution_count": 8,
   "id": "e94395a0",
   "metadata": {},
   "outputs": [
    {
     "data": {
      "text/plain": [
       "'Python programming'"
      ]
     },
     "execution_count": 8,
     "metadata": {},
     "output_type": "execute_result"
    }
   ],
   "source": [
    "'''5.\tGiven text = \" Python Programming \", write a single line that:\n",
    "•\tStrips whitespace, converts to lowercase, and capitalizes first letter\n",
    "•\tOnly if the original text length > 5\n",
    "'''\n",
    "\n",
    "text=\" Python Programming \"\n",
    "(((text.strip()).lower()).capitalize()) if len(text)>5 else \"nothing\""
   ]
  },
  {
   "cell_type": "markdown",
   "id": "872cb77f",
   "metadata": {},
   "source": [
    "## LISTS"
   ]
  },
  {
   "cell_type": "code",
   "execution_count": 10,
   "id": "81014fc4",
   "metadata": {},
   "outputs": [
    {
     "name": "stdout",
     "output_type": "stream",
     "text": [
      "[10, 25]\n",
      "35\n"
     ]
    }
   ],
   "source": [
    "'''6.\tYou have numbers = [10, 25, 30, 45, 50]. Write code to:\n",
    "•\tCreate first_half with first 3 elements if list length > 4, else entire list\n",
    "•\tCreate sum_result with sum of first_half'''\n",
    "\n",
    "numbers=[10,25,30,45,50]\n",
    "if len(numbers)>4:\n",
    "    result=numbers[:len(numbers)//2]\n",
    "    print(result)\n",
    "else:\n",
    "    print(numbers)\n",
    "print(sum(numbers[:len(numbers)//2]))\n",
    "\n"
   ]
  },
  {
   "cell_type": "code",
   "execution_count": 13,
   "id": "4e7af4d2",
   "metadata": {},
   "outputs": [
    {
     "name": "stdout",
     "output_type": "stream",
     "text": [
      "['apple', 'banana', 'cherry', 'orange']\n",
      "['orange', 'cherry', 'banana', 'apple']\n"
     ]
    }
   ],
   "source": [
    "'''7.\tGiven fruits = [\"apple\", \"banana\", \"cherry\"], write code to:\n",
    "•\tAdd \"orange\" to the list if \"banana\" is in the list\n",
    "•\tSort the list in reverse order if it has more than 3 elements\n",
    "'''\n",
    "\n",
    "fruits = [\"apple\", \"banana\", \"cherry\"]\n",
    "if 'banana' in fruits:\n",
    "    fruits.append(\"orange\")\n",
    "print(fruits)\n",
    "if len(fruits)>3:\n",
    "    fruits.sort(reverse=True)\n",
    "print(fruits)\n",
    "\n"
   ]
  },
  {
   "cell_type": "code",
   "execution_count": 2,
   "id": "6cfab057",
   "metadata": {},
   "outputs": [
    {
     "name": "stdout",
     "output_type": "stream",
     "text": [
      "evens:[2, 4, 6, 8, 10]\n",
      "odds:[1, 3, 5, 7, 9]\n"
     ]
    }
   ],
   "source": [
    "'''8.\tYou have data = [1, 2, 3, 4, 5, 6, 7, 8, 9, 10]. Create:\n",
    "•\tevens list containing only even numbers using list comprehension\n",
    "•\todds list containing only odd numbers using list comprehension\n",
    "'''\n",
    "\n",
    "data = [1, 2, 3, 4, 5, 6, 7, 8, 9, 10]\n",
    "evens=[x for x in data if x%2==0]\n",
    "odds=[x for x in data if x%2!=0]\n",
    "print(f\"evens:{evens}\\nodds:{odds}\")\n",
    "        \n"
   ]
  },
  {
   "cell_type": "code",
   "execution_count": 15,
   "id": "ce342cba",
   "metadata": {},
   "outputs": [
    {
     "name": "stdout",
     "output_type": "stream",
     "text": [
      "Eligible with first class\n"
     ]
    }
   ],
   "source": [
    "'''9.\tGiven scores = [85, 92, 78, 96, 88], write code to:\n",
    "•\tFind highest score using max()\n",
    "•\tCreate grade variable: \"A\" if highest >= 90, \"B\" if >= 80, else \"C\"\n",
    "'''\n",
    "import math\n",
    "scores = [85, 92, 78, 96, 88]\n",
    "highest=max(scores)\n",
    "if highest>=90:\n",
    "    print(\"Eligible with first class\")\n",
    "elif highest>=80:\n",
    "    print(\"Eligible\")\n",
    "else:\n",
    "    print('C')\n"
   ]
  },
  {
   "cell_type": "code",
   "execution_count": 16,
   "id": "377ecdef",
   "metadata": {},
   "outputs": [
    {
     "name": "stdout",
     "output_type": "stream",
     "text": [
      "2\n"
     ]
    }
   ],
   "source": [
    "'''10.\tYou have nested = [[1, 2], [3, 4], [5, 6]]. Write code to:\n",
    "•\tGet the second element of the first sublist\n",
    "•\tCreate result that doubles this value if it's even, else keeps it same\n",
    "'''\n",
    "\n",
    "nested = [[1, 2], [3, 4], [5, 6]]\n",
    "print(nested[0][1])"
   ]
  },
  {
   "cell_type": "code",
   "execution_count": null,
   "id": "780de77e",
   "metadata": {},
   "outputs": [],
   "source": []
  }
 ],
 "metadata": {
  "kernelspec": {
   "display_name": "base",
   "language": "python",
   "name": "python3"
  },
  "language_info": {
   "codemirror_mode": {
    "name": "ipython",
    "version": 3
   },
   "file_extension": ".py",
   "mimetype": "text/x-python",
   "name": "python",
   "nbconvert_exporter": "python",
   "pygments_lexer": "ipython3",
   "version": "3.12.4"
  }
 },
 "nbformat": 4,
 "nbformat_minor": 5
}
