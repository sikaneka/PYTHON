{
 "cells": [
  {
   "cell_type": "markdown",
   "id": "fc0acfe3",
   "metadata": {},
   "source": [
    "## STRINGS"
   ]
  },
  {
   "cell_type": "code",
   "execution_count": null,
   "id": "41b8be4b",
   "metadata": {},
   "outputs": [
    {
     "name": "stdout",
     "output_type": "stream",
     "text": [
      "Hello\n"
     ]
    }
   ],
   "source": [
    "# Given the string text = \"Hello World Python\", write code to:\n",
    "# •\tGet the first 5 characters if the string length is greater than 10, otherwise get the last 3 characters\n",
    "# •\tStore the result in a variable called result\n",
    "\n",
    "text=\"Hello World python\"\n",
    "if len(text)>10:\n",
    "    result=text[0:5]\n",
    "    print(result)\n",
    "else:\n",
    "    result=text[-3:]\n",
    "    print(result)\n"
   ]
  },
  {
   "cell_type": "code",
   "execution_count": null,
   "id": "efd9343b",
   "metadata": {},
   "outputs": [
    {
     "data": {
      "text/plain": [
       "'Alice smith'"
      ]
     },
     "execution_count": 2,
     "metadata": {},
     "output_type": "execute_result"
    }
   ],
   "source": [
    "# You have name = \"alice smith\". Write code to:\n",
    "# •\tCapitalize the string if it contains a space, otherwise convert it to uppercase\n",
    "# •\tUse a conditional expression (ternary operator)\n",
    "\n",
    "\n",
    "name='alice smith'\n",
    "name.capitalize() if (' ' in name) else (name.upper())\n"
   ]
  },
  {
   "cell_type": "code",
   "execution_count": null,
   "id": "9a159eb9",
   "metadata": {},
   "outputs": [
    {
     "name": "stdout",
     "output_type": "stream",
     "text": [
      "Long sentence\n"
     ]
    },
    {
     "data": {
      "text/plain": [
       "['The', 'quick', 'brown', 'fox']"
      ]
     },
     "execution_count": 4,
     "metadata": {},
     "output_type": "execute_result"
    }
   ],
   "source": [
    "# Given sentence = \"The quick brown fox\", create a variable word_count that:\n",
    "# •\tContains the number of words in the sentence\n",
    "# •\tThen create message that says \"Long sentence\" if word_count > 3, else \"Short sentence\"\n",
    "\n",
    "\n",
    "sentence=\"The quick brown fox\"\n",
    "word_count=len(sentence.split())\n",
    "\n",
    "if word_count>3:\n",
    "    print(\"Long sentence\")\n",
    "else :\n",
    "    print(\"short sentence\")\n"
   ]
  },
  {
   "cell_type": "code",
   "execution_count": null,
   "id": "09cafc3e",
   "metadata": {},
   "outputs": [
    {
     "name": "stdout",
     "output_type": "stream",
     "text": [
      "user\n"
     ]
    }
   ],
   "source": [
    "# You have email = \"user@example.com\". Write code to:\n",
    "# •\tExtract the username (part before @) if email contains @, otherwise return \"Invalid\"\n",
    "# •\tStore in variable username\n",
    "\n",
    "email=\"user@example.com\"\n",
    "if '@' in email:\n",
    "    print(email[:email.find('@')])\n",
    "else:\n",
    "    print(\"Invalid\")\n",
    "\n"
   ]
  },
  {
   "cell_type": "code",
   "execution_count": null,
   "id": "e94395a0",
   "metadata": {},
   "outputs": [
    {
     "data": {
      "text/plain": [
       "'Python programming'"
      ]
     },
     "execution_count": 8,
     "metadata": {},
     "output_type": "execute_result"
    }
   ],
   "source": [
    "# Given text = \" Python Programming \", write a single line that:\n",
    "# •\tStrips whitespace, converts to lowercase, and capitalizes first letter\n",
    "# •\tOnly if the original text length > 5\n",
    "\n",
    "\n",
    "text=\" Python Programming \"\n",
    "(((text.strip()).lower()).capitalize()) if len(text)>5 else \"nothing\""
   ]
  },
  {
   "cell_type": "markdown",
   "id": "872cb77f",
   "metadata": {},
   "source": [
    "## LISTS"
   ]
  },
  {
   "cell_type": "code",
   "execution_count": null,
   "id": "81014fc4",
   "metadata": {},
   "outputs": [
    {
     "name": "stdout",
     "output_type": "stream",
     "text": [
      "[10, 25]\n",
      "35\n"
     ]
    }
   ],
   "source": [
    "# You have numbers = [10, 25, 30, 45, 50]. Write code to:\n",
    "# •\tCreate first_half with first 3 elements if list length > 4, else entire list\n",
    "# •\tCreate sum_result with sum of first_half\n",
    "\n",
    "numbers=[10,25,30,45,50]\n",
    "if len(numbers)>4:\n",
    "    result=numbers[:len(numbers)//2]\n",
    "    print(result)\n",
    "else:\n",
    "    print(numbers)\n",
    "print(sum(numbers[:len(numbers)//2]))\n",
    "\n"
   ]
  },
  {
   "cell_type": "code",
   "execution_count": null,
   "id": "4e7af4d2",
   "metadata": {},
   "outputs": [
    {
     "name": "stdout",
     "output_type": "stream",
     "text": [
      "['apple', 'banana', 'cherry', 'orange']\n",
      "['orange', 'cherry', 'banana', 'apple']\n"
     ]
    }
   ],
   "source": [
    "# Given fruits = [\"apple\", \"banana\", \"cherry\"], write code to:\n",
    "# •\tAdd \"orange\" to the list if \"banana\" is in the list\n",
    "# •\tSort the list in reverse order if it has more than 3 elements\n",
    "\n",
    "\n",
    "fruits = [\"apple\", \"banana\", \"cherry\"]\n",
    "if 'banana' in fruits:\n",
    "    fruits.append(\"orange\")\n",
    "print(fruits)\n",
    "if len(fruits)>3:\n",
    "    fruits.sort(reverse=True)\n",
    "print(fruits)\n",
    "\n"
   ]
  },
  {
   "cell_type": "code",
   "execution_count": null,
   "id": "6cfab057",
   "metadata": {},
   "outputs": [
    {
     "name": "stdout",
     "output_type": "stream",
     "text": [
      "evens:[2, 4, 6, 8, 10]\n",
      "odds:[1, 3, 5, 7, 9]\n"
     ]
    }
   ],
   "source": [
    "# You have data = [1, 2, 3, 4, 5, 6, 7, 8, 9, 10]. Create:\n",
    "# •\tevens list containing only even numbers using list comprehension\n",
    "# •\todds list containing only odd numbers using list comprehension\n",
    "\n",
    "\n",
    "data = [1, 2, 3, 4, 5, 6, 7, 8, 9, 10]\n",
    "evens=[x for x in data if x%2==0]\n",
    "odds=[x for x in data if x%2!=0]\n",
    "print(f\"evens:{evens}\\nodds:{odds}\")\n",
    "        \n"
   ]
  },
  {
   "cell_type": "code",
   "execution_count": null,
   "id": "ce342cba",
   "metadata": {},
   "outputs": [
    {
     "name": "stdout",
     "output_type": "stream",
     "text": [
      "Eligible with first class\n"
     ]
    }
   ],
   "source": [
    "# Given scores = [85, 92, 78, 96, 88], write code to:\n",
    "# •\tFind highest score using max()\n",
    "# •\tCreate grade variable: \"A\" if highest >= 90, \"B\" if >= 80, else \"C\"\n",
    "\n",
    "import math\n",
    "scores = [85, 92, 78, 96, 88]\n",
    "highest=max(scores)\n",
    "if highest>=90:\n",
    "    print(\"Eligible with first class\")\n",
    "elif highest>=80:\n",
    "    print(\"Eligible\")\n",
    "else:\n",
    "    print('C')\n"
   ]
  },
  {
   "cell_type": "code",
   "execution_count": null,
   "id": "377ecdef",
   "metadata": {},
   "outputs": [
    {
     "name": "stdout",
     "output_type": "stream",
     "text": [
      "2\n"
     ]
    }
   ],
   "source": [
    "# You have nested = [[1, 2], [3, 4], [5, 6]]. Write code to:\n",
    "# •\tGet the second element of the first sublist\n",
    "# •\tCreate result that doubles this value if it's even, else keeps it same\n",
    "\n",
    "\n",
    "nested = [[1, 2], [3, 4], [5, 6]]\n",
    "print(nested[0][1])"
   ]
  },
  {
   "cell_type": "markdown",
   "id": "72af730a",
   "metadata": {},
   "source": [
    "# TUPLES"
   ]
  },
  {
   "cell_type": "code",
   "execution_count": 4,
   "id": "780de77e",
   "metadata": {},
   "outputs": [
    {
     "name": "stdout",
     "output_type": "stream",
     "text": [
      "True\n"
     ]
    }
   ],
   "source": [
    "# Given coordinates = (10, 20, 30), write code to:\n",
    "# •\tUnpack into variables x, y, z\n",
    "# •\tCreate is_positive boolean that's True if all values > 0\n",
    "\n",
    "\n",
    "coordinates=(10,20,30)\n",
    "x,y,z=coordinates\n",
    "is_positive=all(val>0 for val in coordinates)\n",
    "print(is_positive)\n"
   ]
  },
  {
   "cell_type": "code",
   "execution_count": 6,
   "id": "95cbfe87",
   "metadata": {},
   "outputs": [
    {
     "name": "stdout",
     "output_type": "stream",
     "text": [
      "pass\n"
     ]
    }
   ],
   "source": [
    "# You have student = (\"Alice\", 85, \"Math\"). Write code to:\n",
    "# •\tExtract name, score, and subject using tuple unpacking\n",
    "# •\tCreate status = \"Pass\" if score >= 60, else \"Fail\"\n",
    "\n",
    "student=(\"Alice\",85,\"math\")\n",
    "name,score,subject=student\n",
    "if score>=60:\n",
    "    status=\"pass\"\n",
    "    print(status)\n",
    "else:\n",
    "    print(\"fail\")"
   ]
  },
  {
   "cell_type": "code",
   "execution_count": 7,
   "id": "bf4af195",
   "metadata": {},
   "outputs": [
    {
     "name": "stdout",
     "output_type": "stream",
     "text": [
      "the length is 4\n"
     ]
    }
   ],
   "source": [
    "# Given point1 = (1, 2) and point2 = (3, 4), write code to:\n",
    "# •\tCreate combined tuple by concatenating both tuples\n",
    "# •\tCheck if length of combined tuple equals 4\n",
    "\n",
    "point1=(1,2)\n",
    "point2=(3,4)\n",
    "t1=point1+point2\n",
    "if len(t1)==4:\n",
    "    print(\"the length is 4\")\n",
    "else:\n",
    "    print(\"length is not 4\")\n",
    "    "
   ]
  },
  {
   "cell_type": "code",
   "execution_count": 8,
   "id": "edaff5bb",
   "metadata": {},
   "outputs": [
    {
     "name": "stdout",
     "output_type": "stream",
     "text": [
      "no.of 5s in data:  3\n",
      "frequency is  High\n"
     ]
    }
   ],
   "source": [
    "# You have data = (5, 10, 5, 20, 5, 30). Write code to:\n",
    "# •\tCount how many times 5 appears using .count()\n",
    "# •\tCreate frequency = \"High\" if count > 2, else \"Low\"\n",
    "\n",
    "data=(5,10,5,20,5,30)\n",
    "print(\"no.of 5s in data: \",data.count(5))\n",
    "if data.count(5)>2:\n",
    "    frequency=\"High\"\n",
    "    print(\"frequency is \",frequency)\n",
    "else:\n",
    "    frequency='Low'\n",
    "    print(\"frequency is \",frequency)"
   ]
  },
  {
   "cell_type": "code",
   "execution_count": 11,
   "id": "388e317e",
   "metadata": {},
   "outputs": [
    {
     "name": "stdout",
     "output_type": "stream",
     "text": [
      "30\n",
      "category is  Adult\n"
     ]
    }
   ],
   "source": [
    "# Given info = ((\"John\", 25), (\"Alice\", 30), (\"Bob\", 20)), write code to:\n",
    "# •\tAccess Alice's age (second element of second tuple)\n",
    "# •\tCreate category = \"Adult\" if age >= 18, else \"Minor\"\n",
    "\n",
    "info = ((\"John\", 25), (\"Alice\", 30), (\"Bob\", 20))\n",
    "print(info[1][1])\n",
    "age=info[1][1]\n",
    "if age>=18:\n",
    "    category=\"Adult\"\n",
    "    print(\"category is \",category)\n",
    "else:\n",
    "    category=\"Minor\"\n",
    "    print(\"category is \",category)"
   ]
  },
  {
   "cell_type": "markdown",
   "id": "488a35f7",
   "metadata": {},
   "source": [
    "# SET"
   ]
  },
  {
   "cell_type": "code",
   "execution_count": 1,
   "id": "4d3ad28c",
   "metadata": {},
   "outputs": [
    {
     "name": "stdout",
     "output_type": "stream",
     "text": [
      "{1, 2, 3, 4}\n",
      "True\n"
     ]
    }
   ],
   "source": [
    "# You have list1 = [1, 2, 2, 3, 3, 4]. Write code to:\n",
    "# •\tCreate unique_set from the list\n",
    "# •\tCreate has_duplicates boolean (True if original list length > set length)\n",
    "\n",
    "list1=[1,2,2,3,3,4]\n",
    "unique_set=set(list1)\n",
    "print(unique_set)\n",
    "has_duplicates=len(list1)>len(unique_set)\n",
    "print(has_duplicates)"
   ]
  },
  {
   "cell_type": "code",
   "execution_count": 2,
   "id": "e667e3a0",
   "metadata": {},
   "outputs": [
    {
     "name": "stdout",
     "output_type": "stream",
     "text": [
      "common elements are: {3, 4}\n",
      "all items are: {1, 2, 3, 4, 5, 6}\n",
      "has common elements True\n"
     ]
    }
   ],
   "source": [
    "# Given set1 = {1, 2, 3, 4} and set2 = {3, 4, 5, 6}, write code to:\n",
    "# •\tCreate common with intersection of both sets\n",
    "# •\tCreate all_items with union of both sets\n",
    "# •\tCheck if common set is not empty\n",
    "\n",
    "set1 = {1, 2, 3, 4}\n",
    "set2 = {3, 4, 5, 6}\n",
    "common=set1.intersection(set2)\n",
    "all_items=set1.union(set2)\n",
    "print(f\"common elements are: {common}\")\n",
    "print(f\"all items are: {all_items}\")\n",
    "has_common=len(common)>0\n",
    "print(\"has common elements\",has_common)\n"
   ]
  },
  {
   "cell_type": "code",
   "execution_count": 3,
   "id": "85ee804f",
   "metadata": {},
   "outputs": [
    {
     "name": "stdout",
     "output_type": "stream",
     "text": [
      "3\n"
     ]
    }
   ],
   "source": [
    "# You have colors = {\"red\", \"blue\", \"green\"}. Write code to:\n",
    "# •\tAdd \"yellow\" if set size < 4\n",
    "# •\tCreate color_count with the final size of the set\n",
    "\n",
    "colors = {\"red\", \"blue\", \"green\"}\n",
    "if len(colors)>4:\n",
    "    colors.add('yellow')\n",
    "color_count=len(colors)\n",
    "print(color_count)"
   ]
  },
  {
   "cell_type": "code",
   "execution_count": 4,
   "id": "fe266a6d",
   "metadata": {},
   "outputs": [
    {
     "name": "stdout",
     "output_type": "stream",
     "text": [
      "{'fun', 'python'}\n"
     ]
    }
   ],
   "source": [
    "# Given tags1 = {\"python\", \"coding\", \"fun\"} and tags2 = {\"java\", \"coding\", \"work\"}, write code to:\n",
    "# •\tFind tags that are in tags1 but not in tags2\n",
    "# •\tStore result in unique_tags1\n",
    "\n",
    "tags1 = {\"python\", \"coding\", \"fun\"}\n",
    "tags2 = {\"java\", \"coding\", \"work\"}\n",
    "unique_tags1=tags1-tags2\n",
    "print(unique_tags1)"
   ]
  },
  {
   "cell_type": "code",
   "execution_count": 7,
   "id": "24510e33",
   "metadata": {},
   "outputs": [
    {
     "name": "stdout",
     "output_type": "stream",
     "text": [
      "{2, 4}\n",
      "True\n"
     ]
    }
   ],
   "source": [
    "# You have numbers_set = {1, 2, 3, 4, 5}. Write code to:\n",
    "# •\tCreate even_set containing only even numbers using set comprehension\n",
    "# •\tCheck if even_set is a subset of numbers_set\n",
    "\n",
    "numbers_set = {1, 2, 3, 4, 5}\n",
    "even_set={x for x in numbers_set if x%2==0}\n",
    "print(even_set)\n",
    "print(even_set.issubset(numbers_set))"
   ]
  },
  {
   "cell_type": "markdown",
   "id": "4a7057a8",
   "metadata": {},
   "source": [
    "# Dictionary"
   ]
  },
  {
   "cell_type": "code",
   "execution_count": 9,
   "id": "0ceb7153",
   "metadata": {},
   "outputs": [
    {
     "name": "stdout",
     "output_type": "stream",
     "text": [
      "B\n"
     ]
    }
   ],
   "source": [
    "# Given student = {\"name\": \"John\", \"age\": 20, \"grade\": 85}, write code to:\n",
    "# •\tGet the grade using .get() method with default value 0\n",
    "# •\tCreate letter_grade = \"A\" if grade >= 90, \"B\" if >= 80, else \"C\"\n",
    "\n",
    "student = {\"name\": \"John\", \"age\": 20, \"grade\": 85}\n",
    "grade=student.get('grade',0)\n",
    "letter_grade='A' if grade>=90 else 'B' if grade>=80 else 'C'\n",
    "print(letter_grade)"
   ]
  },
  {
   "cell_type": "code",
   "execution_count": 13,
   "id": "80df6caf",
   "metadata": {},
   "outputs": [
    {
     "name": "stdout",
     "output_type": "stream",
     "text": [
      "{'apples': 50, 'bananas': 30, 'oranges': 20, 'grapes': 25}\n"
     ]
    }
   ],
   "source": [
    "# You have inventory = {\"apples\": 50, \"bananas\": 30, \"oranges\": 20}. Write code to:\n",
    "# •\tGet total items using sum() on values\n",
    "# •\tAdd \"grapes\": 25 if total items < 120\n",
    "\n",
    "inventory = {\"apples\": 50, \"bananas\": 30, \"oranges\": 20}\n",
    "total_items=sum(inventory.values())\n",
    "inventory.update({\"grapes\":25}) if total_items<120 else None\n",
    "print(inventory)"
   ]
  },
  {
   "cell_type": "code",
   "execution_count": null,
   "id": "dc007439",
   "metadata": {},
   "outputs": [],
   "source": [
    "# Given person = {\"first_name\": \"Alice\", \"last_name\": \"Smith\"}, write code to:\n",
    "# •\tCreate full_name by joining first_name and last_name with space\n",
    "# •\tCreate initials with first letter of each name (use indexing)\n"
   ]
  }
 ],
 "metadata": {
  "kernelspec": {
   "display_name": "base",
   "language": "python",
   "name": "python3"
  },
  "language_info": {
   "codemirror_mode": {
    "name": "ipython",
    "version": 3
   },
   "file_extension": ".py",
   "mimetype": "text/x-python",
   "name": "python",
   "nbconvert_exporter": "python",
   "pygments_lexer": "ipython3",
   "version": "3.12.4"
  }
 },
 "nbformat": 4,
 "nbformat_minor": 5
}
