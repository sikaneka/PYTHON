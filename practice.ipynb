{
 "cells": [
  {
   "cell_type": "markdown",
   "id": "fc0acfe3",
   "metadata": {},
   "source": [
    "## STRINGS"
   ]
  },
  {
   "cell_type": "code",
   "execution_count": null,
   "id": "41b8be4b",
   "metadata": {},
   "outputs": [
    {
     "name": "stdout",
     "output_type": "stream",
     "text": [
      "Hello\n"
     ]
    }
   ],
   "source": [
    "# Given the string text = \"Hello World Python\", write code to:\n",
    "# •\tGet the first 5 characters if the string length is greater than 10, otherwise get the last 3 characters\n",
    "# •\tStore the result in a variable called result\n",
    "\n",
    "text=\"Hello World python\"\n",
    "if len(text)>10:\n",
    "    result=text[0:5]\n",
    "    print(result)\n",
    "else:\n",
    "    result=text[-3:]\n",
    "    print(result)\n"
   ]
  },
  {
   "cell_type": "code",
   "execution_count": null,
   "id": "efd9343b",
   "metadata": {},
   "outputs": [
    {
     "data": {
      "text/plain": [
       "'Alice smith'"
      ]
     },
     "execution_count": 2,
     "metadata": {},
     "output_type": "execute_result"
    }
   ],
   "source": [
    "# You have name = \"alice smith\". Write code to:\n",
    "# •\tCapitalize the string if it contains a space, otherwise convert it to uppercase\n",
    "# •\tUse a conditional expression (ternary operator)\n",
    "\n",
    "\n",
    "name='alice smith'\n",
    "name.capitalize() if (' ' in name) else (name.upper())\n"
   ]
  },
  {
   "cell_type": "code",
   "execution_count": null,
   "id": "9a159eb9",
   "metadata": {},
   "outputs": [
    {
     "name": "stdout",
     "output_type": "stream",
     "text": [
      "Long sentence\n"
     ]
    },
    {
     "data": {
      "text/plain": [
       "['The', 'quick', 'brown', 'fox']"
      ]
     },
     "execution_count": 4,
     "metadata": {},
     "output_type": "execute_result"
    }
   ],
   "source": [
    "# Given sentence = \"The quick brown fox\", create a variable word_count that:\n",
    "# •\tContains the number of words in the sentence\n",
    "# •\tThen create message that says \"Long sentence\" if word_count > 3, else \"Short sentence\"\n",
    "\n",
    "\n",
    "sentence=\"The quick brown fox\"\n",
    "word_count=len(sentence.split())\n",
    "\n",
    "if word_count>3:\n",
    "    print(\"Long sentence\")\n",
    "else :\n",
    "    print(\"short sentence\")\n"
   ]
  },
  {
   "cell_type": "code",
   "execution_count": null,
   "id": "09cafc3e",
   "metadata": {},
   "outputs": [
    {
     "name": "stdout",
     "output_type": "stream",
     "text": [
      "user\n"
     ]
    }
   ],
   "source": [
    "# You have email = \"user@example.com\". Write code to:\n",
    "# •\tExtract the username (part before @) if email contains @, otherwise return \"Invalid\"\n",
    "# •\tStore in variable username\n",
    "\n",
    "email=\"user@example.com\"\n",
    "if '@' in email:\n",
    "    print(email[:email.find('@')])\n",
    "else:\n",
    "    print(\"Invalid\")\n",
    "\n"
   ]
  },
  {
   "cell_type": "code",
   "execution_count": null,
   "id": "e94395a0",
   "metadata": {},
   "outputs": [
    {
     "data": {
      "text/plain": [
       "'Python programming'"
      ]
     },
     "execution_count": 8,
     "metadata": {},
     "output_type": "execute_result"
    }
   ],
   "source": [
    "# Given text = \" Python Programming \", write a single line that:\n",
    "# •\tStrips whitespace, converts to lowercase, and capitalizes first letter\n",
    "# •\tOnly if the original text length > 5\n",
    "\n",
    "\n",
    "text=\" Python Programming \"\n",
    "(((text.strip()).lower()).capitalize()) if len(text)>5 else \"nothing\""
   ]
  },
  {
   "cell_type": "markdown",
   "id": "872cb77f",
   "metadata": {},
   "source": [
    "## LISTS"
   ]
  },
  {
   "cell_type": "code",
   "execution_count": null,
   "id": "81014fc4",
   "metadata": {},
   "outputs": [
    {
     "name": "stdout",
     "output_type": "stream",
     "text": [
      "[10, 25]\n",
      "35\n"
     ]
    }
   ],
   "source": [
    "# You have numbers = [10, 25, 30, 45, 50]. Write code to:\n",
    "# •\tCreate first_half with first 3 elements if list length > 4, else entire list\n",
    "# •\tCreate sum_result with sum of first_half\n",
    "\n",
    "numbers=[10,25,30,45,50]\n",
    "if len(numbers)>4:\n",
    "    result=numbers[:len(numbers)//2]\n",
    "    print(result)\n",
    "else:\n",
    "    print(numbers)\n",
    "print(sum(numbers[:len(numbers)//2]))\n",
    "\n"
   ]
  },
  {
   "cell_type": "code",
   "execution_count": null,
   "id": "4e7af4d2",
   "metadata": {},
   "outputs": [
    {
     "name": "stdout",
     "output_type": "stream",
     "text": [
      "['apple', 'banana', 'cherry', 'orange']\n",
      "['orange', 'cherry', 'banana', 'apple']\n"
     ]
    }
   ],
   "source": [
    "# Given fruits = [\"apple\", \"banana\", \"cherry\"], write code to:\n",
    "# •\tAdd \"orange\" to the list if \"banana\" is in the list\n",
    "# •\tSort the list in reverse order if it has more than 3 elements\n",
    "\n",
    "\n",
    "fruits = [\"apple\", \"banana\", \"cherry\"]\n",
    "if 'banana' in fruits:\n",
    "    fruits.append(\"orange\")\n",
    "print(fruits)\n",
    "if len(fruits)>3:\n",
    "    fruits.sort(reverse=True)\n",
    "print(fruits)\n",
    "\n"
   ]
  },
  {
   "cell_type": "code",
   "execution_count": null,
   "id": "6cfab057",
   "metadata": {},
   "outputs": [
    {
     "name": "stdout",
     "output_type": "stream",
     "text": [
      "evens:[2, 4, 6, 8, 10]\n",
      "odds:[1, 3, 5, 7, 9]\n"
     ]
    }
   ],
   "source": [
    "# You have data = [1, 2, 3, 4, 5, 6, 7, 8, 9, 10]. Create:\n",
    "# •\tevens list containing only even numbers using list comprehension\n",
    "# •\todds list containing only odd numbers using list comprehension\n",
    "\n",
    "\n",
    "data = [1, 2, 3, 4, 5, 6, 7, 8, 9, 10]\n",
    "evens=[x for x in data if x%2==0]\n",
    "odds=[x for x in data if x%2!=0]\n",
    "print(f\"evens:{evens}\\nodds:{odds}\")\n",
    "        \n"
   ]
  },
  {
   "cell_type": "code",
   "execution_count": null,
   "id": "ce342cba",
   "metadata": {},
   "outputs": [
    {
     "name": "stdout",
     "output_type": "stream",
     "text": [
      "Eligible with first class\n"
     ]
    }
   ],
   "source": [
    "# Given scores = [85, 92, 78, 96, 88], write code to:\n",
    "# •\tFind highest score using max()\n",
    "# •\tCreate grade variable: \"A\" if highest >= 90, \"B\" if >= 80, else \"C\"\n",
    "\n",
    "import math\n",
    "scores = [85, 92, 78, 96, 88]\n",
    "highest=max(scores)\n",
    "if highest>=90:\n",
    "    print(\"Eligible with first class\")\n",
    "elif highest>=80:\n",
    "    print(\"Eligible\")\n",
    "else:\n",
    "    print('C')\n"
   ]
  },
  {
   "cell_type": "code",
   "execution_count": null,
   "id": "377ecdef",
   "metadata": {},
   "outputs": [
    {
     "name": "stdout",
     "output_type": "stream",
     "text": [
      "2\n"
     ]
    }
   ],
   "source": [
    "# You have nested = [[1, 2], [3, 4], [5, 6]]. Write code to:\n",
    "# •\tGet the second element of the first sublist\n",
    "# •\tCreate result that doubles this value if it's even, else keeps it same\n",
    "\n",
    "\n",
    "nested = [[1, 2], [3, 4], [5, 6]]\n",
    "print(nested[0][1])"
   ]
  },
  {
   "cell_type": "markdown",
   "id": "72af730a",
   "metadata": {},
   "source": [
    "# TUPLES"
   ]
  },
  {
   "cell_type": "code",
   "execution_count": 4,
   "id": "780de77e",
   "metadata": {},
   "outputs": [
    {
     "name": "stdout",
     "output_type": "stream",
     "text": [
      "True\n"
     ]
    }
   ],
   "source": [
    "# Given coordinates = (10, 20, 30), write code to:\n",
    "# •\tUnpack into variables x, y, z\n",
    "# •\tCreate is_positive boolean that's True if all values > 0\n",
    "\n",
    "\n",
    "coordinates=(10,20,30)\n",
    "x,y,z=coordinates\n",
    "is_positive=all(val>0 for val in coordinates)\n",
    "print(is_positive)\n"
   ]
  },
  {
   "cell_type": "code",
   "execution_count": 6,
   "id": "95cbfe87",
   "metadata": {},
   "outputs": [
    {
     "name": "stdout",
     "output_type": "stream",
     "text": [
      "pass\n"
     ]
    }
   ],
   "source": [
    "# You have student = (\"Alice\", 85, \"Math\"). Write code to:\n",
    "# •\tExtract name, score, and subject using tuple unpacking\n",
    "# •\tCreate status = \"Pass\" if score >= 60, else \"Fail\"\n",
    "\n",
    "student=(\"Alice\",85,\"math\")\n",
    "name,score,subject=student\n",
    "if score>=60:\n",
    "    status=\"pass\"\n",
    "    print(status)\n",
    "else:\n",
    "    print(\"fail\")"
   ]
  },
  {
   "cell_type": "code",
   "execution_count": 7,
   "id": "bf4af195",
   "metadata": {},
   "outputs": [
    {
     "name": "stdout",
     "output_type": "stream",
     "text": [
      "the length is 4\n"
     ]
    }
   ],
   "source": [
    "# Given point1 = (1, 2) and point2 = (3, 4), write code to:\n",
    "# •\tCreate combined tuple by concatenating both tuples\n",
    "# •\tCheck if length of combined tuple equals 4\n",
    "\n",
    "point1=(1,2)\n",
    "point2=(3,4)\n",
    "t1=point1+point2\n",
    "if len(t1)==4:\n",
    "    print(\"the length is 4\")\n",
    "else:\n",
    "    print(\"length is not 4\")\n",
    "    "
   ]
  },
  {
   "cell_type": "code",
   "execution_count": 8,
   "id": "edaff5bb",
   "metadata": {},
   "outputs": [
    {
     "name": "stdout",
     "output_type": "stream",
     "text": [
      "no.of 5s in data:  3\n",
      "frequency is  High\n"
     ]
    }
   ],
   "source": [
    "# You have data = (5, 10, 5, 20, 5, 30). Write code to:\n",
    "# •\tCount how many times 5 appears using .count()\n",
    "# •\tCreate frequency = \"High\" if count > 2, else \"Low\"\n",
    "\n",
    "data=(5,10,5,20,5,30)\n",
    "print(\"no.of 5s in data: \",data.count(5))\n",
    "if data.count(5)>2:\n",
    "    frequency=\"High\"\n",
    "    print(\"frequency is \",frequency)\n",
    "else:\n",
    "    frequency='Low'\n",
    "    print(\"frequency is \",frequency)"
   ]
  },
  {
   "cell_type": "code",
   "execution_count": 11,
   "id": "388e317e",
   "metadata": {},
   "outputs": [
    {
     "name": "stdout",
     "output_type": "stream",
     "text": [
      "30\n",
      "category is  Adult\n"
     ]
    }
   ],
   "source": [
    "# Given info = ((\"John\", 25), (\"Alice\", 30), (\"Bob\", 20)), write code to:\n",
    "# •\tAccess Alice's age (second element of second tuple)\n",
    "# •\tCreate category = \"Adult\" if age >= 18, else \"Minor\"\n",
    "\n",
    "info = ((\"John\", 25), (\"Alice\", 30), (\"Bob\", 20))\n",
    "print(info[1][1])\n",
    "age=info[1][1]\n",
    "if age>=18:\n",
    "    category=\"Adult\"\n",
    "    print(\"category is \",category)\n",
    "else:\n",
    "    category=\"Minor\"\n",
    "    print(\"category is \",category)"
   ]
  },
  {
   "cell_type": "markdown",
   "id": "488a35f7",
   "metadata": {},
   "source": [
    "# SET"
   ]
  },
  {
   "cell_type": "code",
   "execution_count": 1,
   "id": "4d3ad28c",
   "metadata": {},
   "outputs": [
    {
     "name": "stdout",
     "output_type": "stream",
     "text": [
      "{1, 2, 3, 4}\n",
      "True\n"
     ]
    }
   ],
   "source": [
    "# You have list1 = [1, 2, 2, 3, 3, 4]. Write code to:\n",
    "# •\tCreate unique_set from the list\n",
    "# •\tCreate has_duplicates boolean (True if original list length > set length)\n",
    "\n",
    "list1=[1,2,2,3,3,4]\n",
    "unique_set=set(list1)\n",
    "print(unique_set)\n",
    "has_duplicates=len(list1)>len(unique_set)\n",
    "print(has_duplicates)"
   ]
  },
  {
   "cell_type": "code",
   "execution_count": 2,
   "id": "e667e3a0",
   "metadata": {},
   "outputs": [
    {
     "name": "stdout",
     "output_type": "stream",
     "text": [
      "common elements are: {3, 4}\n",
      "all items are: {1, 2, 3, 4, 5, 6}\n",
      "has common elements True\n"
     ]
    }
   ],
   "source": [
    "# Given set1 = {1, 2, 3, 4} and set2 = {3, 4, 5, 6}, write code to:\n",
    "# •\tCreate common with intersection of both sets\n",
    "# •\tCreate all_items with union of both sets\n",
    "# •\tCheck if common set is not empty\n",
    "\n",
    "set1 = {1, 2, 3, 4}\n",
    "set2 = {3, 4, 5, 6}\n",
    "common=set1.intersection(set2)\n",
    "all_items=set1.union(set2)\n",
    "print(f\"common elements are: {common}\")\n",
    "print(f\"all items are: {all_items}\")\n",
    "has_common=len(common)>0\n",
    "print(\"has common elements\",has_common)\n"
   ]
  },
  {
   "cell_type": "code",
   "execution_count": 3,
   "id": "85ee804f",
   "metadata": {},
   "outputs": [
    {
     "name": "stdout",
     "output_type": "stream",
     "text": [
      "3\n"
     ]
    }
   ],
   "source": [
    "# You have colors = {\"red\", \"blue\", \"green\"}. Write code to:\n",
    "# •\tAdd \"yellow\" if set size < 4\n",
    "# •\tCreate color_count with the final size of the set\n",
    "\n",
    "colors = {\"red\", \"blue\", \"green\"}\n",
    "if len(colors)>4:\n",
    "    colors.add('yellow')\n",
    "color_count=len(colors)\n",
    "print(color_count)"
   ]
  },
  {
   "cell_type": "code",
   "execution_count": 4,
   "id": "fe266a6d",
   "metadata": {},
   "outputs": [
    {
     "name": "stdout",
     "output_type": "stream",
     "text": [
      "{'fun', 'python'}\n"
     ]
    }
   ],
   "source": [
    "# Given tags1 = {\"python\", \"coding\", \"fun\"} and tags2 = {\"java\", \"coding\", \"work\"}, write code to:\n",
    "# •\tFind tags that are in tags1 but not in tags2\n",
    "# •\tStore result in unique_tags1\n",
    "\n",
    "tags1 = {\"python\", \"coding\", \"fun\"}\n",
    "tags2 = {\"java\", \"coding\", \"work\"}\n",
    "unique_tags1=tags1-tags2\n",
    "print(unique_tags1)"
   ]
  },
  {
   "cell_type": "code",
   "execution_count": 7,
   "id": "24510e33",
   "metadata": {},
   "outputs": [
    {
     "name": "stdout",
     "output_type": "stream",
     "text": [
      "{2, 4}\n",
      "True\n"
     ]
    }
   ],
   "source": [
    "# You have numbers_set = {1, 2, 3, 4, 5}. Write code to:\n",
    "# •\tCreate even_set containing only even numbers using set comprehension\n",
    "# •\tCheck if even_set is a subset of numbers_set\n",
    "\n",
    "numbers_set = {1, 2, 3, 4, 5}\n",
    "even_set={x for x in numbers_set if x%2==0}\n",
    "print(even_set)\n",
    "print(even_set.issubset(numbers_set))"
   ]
  },
  {
   "cell_type": "markdown",
   "id": "4a7057a8",
   "metadata": {},
   "source": [
    "# Dictionary"
   ]
  },
  {
   "cell_type": "code",
   "execution_count": 9,
   "id": "0ceb7153",
   "metadata": {},
   "outputs": [
    {
     "name": "stdout",
     "output_type": "stream",
     "text": [
      "B\n"
     ]
    }
   ],
   "source": [
    "# Given student = {\"name\": \"John\", \"age\": 20, \"grade\": 85}, write code to:\n",
    "# •\tGet the grade using .get() method with default value 0\n",
    "# •\tCreate letter_grade = \"A\" if grade >= 90, \"B\" if >= 80, else \"C\"\n",
    "\n",
    "student = {\"name\": \"John\", \"age\": 20, \"grade\": 85}\n",
    "grade=student.get('grade',0)\n",
    "letter_grade='A' if grade>=90 else 'B' if grade>=80 else 'C'\n",
    "print(letter_grade)"
   ]
  },
  {
   "cell_type": "code",
   "execution_count": 13,
   "id": "80df6caf",
   "metadata": {},
   "outputs": [
    {
     "name": "stdout",
     "output_type": "stream",
     "text": [
      "{'apples': 50, 'bananas': 30, 'oranges': 20, 'grapes': 25}\n"
     ]
    }
   ],
   "source": [
    "# You have inventory = {\"apples\": 50, \"bananas\": 30, \"oranges\": 20}. Write code to:\n",
    "# •\tGet total items using sum() on values\n",
    "# •\tAdd \"grapes\": 25 if total items < 120\n",
    "\n",
    "inventory = {\"apples\": 50, \"bananas\": 30, \"oranges\": 20}\n",
    "total_items=sum(inventory.values())\n",
    "inventory.update({\"grapes\":25}) if total_items<120 else None\n",
    "print(inventory)"
   ]
  },
  {
   "cell_type": "code",
   "execution_count": 20,
   "id": "dc007439",
   "metadata": {},
   "outputs": [
    {
     "name": "stdout",
     "output_type": "stream",
     "text": [
      "Full name: Alice Smith\n",
      "Alice A\n",
      "Smith S\n"
     ]
    }
   ],
   "source": [
    "# Given person = {\"first_name\": \"Alice\", \"last_name\": \"Smith\"}, write code to:\n",
    "# •\tCreate full_name by joining first_name and last_name with space\n",
    "# •\tCreate initials with first letter of each name (use indexing)\n",
    "\n",
    "person = {\"first_name\": \"Alice\", \"last_name\": \"Smith\"}\n",
    "full_name=' '.join(person.values())\n",
    "fname=person[\"first_name\"]+\" \"+person[\"first_name\"][0]\n",
    "lname=person[\"last_name\"]+\" \" +person[\"last_name\"][0]\n",
    "print(f\"Full name: {full_name}\")\n",
    "print(f\"{fname}\\n{lname}\")"
   ]
  },
  {
   "cell_type": "code",
   "execution_count": 22,
   "id": "d0332b4e",
   "metadata": {},
   "outputs": [
    {
     "name": "stdout",
     "output_type": "stream",
     "text": [
      "subject: dict_keys(['math', 'science', 'english'])\n",
      "avg_score: 85.0\n",
      "performance: Good\n"
     ]
    }
   ],
   "source": [
    "# You have scores = {\"math\": 85, \"science\": 92, \"english\": 78}. Write code to:\n",
    "# •\tCreate subjects list from dictionary keys\n",
    "# •\tCreate avg_score by calculating average of values\n",
    "# •\tCreate performance = \"Good\" if avg_score >= 80, else \"Needs Improvement\"\n",
    "\n",
    "scores = {\"math\": 85, \"science\": 92, \"english\": 78}\n",
    "subject=scores.keys()\n",
    "avg_score=sum(scores.values())/len(scores)\n",
    "performance=\"Good\" if avg_score>=80 else \"Needs Improvement\"\n",
    "print(f\"subject: {subject}\\navg_score: {avg_score}\\nperformance: {performance}\")"
   ]
  },
  {
   "cell_type": "code",
   "execution_count": 2,
   "id": "e08389d0",
   "metadata": {},
   "outputs": [
    {
     "name": "stdout",
     "output_type": "stream",
     "text": [
      "there is a key 'active' and its value is 'True'\n",
      "John\n"
     ]
    }
   ],
   "source": [
    "# Given data = {\"users\": [\"John\", \"Alice\"], \"active\": True, \"count\": 2}, write code to:\n",
    "# •\tCheck if \"active\" key exists and its value is True\n",
    "# •\tGet first user from users list if it exists, else \"No users\"\n",
    "\n",
    "data = {\"users\": [\"John\", \"Alice\"], \"active\": True, \"count\": 2}\n",
    "\n",
    "if 'active' in data and data.get('active')==True:\n",
    "    print(\"there is a key 'active' and its value is 'True'\")\n",
    "first_user=data.get('users',[])\n",
    "print(first_user[0] if first_user else \"No users\")\n"
   ]
  },
  {
   "cell_type": "code",
   "execution_count": 3,
   "id": "f73686c1",
   "metadata": {},
   "outputs": [
    {
     "name": "stdout",
     "output_type": "stream",
     "text": [
      "warm\n"
     ]
    }
   ],
   "source": [
    "# You have temperature = 75. Write code to:\n",
    "# •\tCreate weather = \"Hot\" if temp > 80, \"Warm\" if > 60, \"Cold\" if <= 60\n",
    "# •\tUse chained conditional expressions (nested ternary operators)\n",
    "\n",
    "temp=75\n",
    "weather=\"Hot\" if temp>80 else \"warm\" if temp>60 else \"cold\" \n",
    "print(weather)"
   ]
  },
  {
   "cell_type": "code",
   "execution_count": 4,
   "id": "c29c9677",
   "metadata": {},
   "outputs": [
    {
     "name": "stdout",
     "output_type": "stream",
     "text": [
      "Granted\n"
     ]
    }
   ],
   "source": [
    "# Given username = \"admin\" and password = \"secret123\", write code to:\n",
    "# •\tCreate access = \"Granted\" if both username == \"admin\" AND password length > 6\n",
    "# •\tUse boolean operators\n",
    "\n",
    "username=\"admin\"\n",
    "password=\"secret123\"\n",
    "access=\"Granted\" if username==\"admin\" and len(password)>6 else \"denied\"\n",
    "print(access)"
   ]
  },
  {
   "cell_type": "code",
   "execution_count": 6,
   "id": "a6c66c81",
   "metadata": {},
   "outputs": [
    {
     "data": {
      "text/plain": [
       "'can drive'"
      ]
     },
     "execution_count": 6,
     "metadata": {},
     "output_type": "execute_result"
    }
   ],
   "source": [
    "# You have age = 25 and has_license = True. Write code to:\n",
    "# •\tCreate can_drive boolean that's True if age >= 18 AND has_license is True\n",
    "# •\tCreate status message based on can_drive value\n",
    "age=25\n",
    "has_licence=True\n",
    "can_drive=age>=18 and has_licence\n",
    "status_msg=\"can drive\" if can_drive else \"can not drive\"\n",
    "status_msg"
   ]
  },
  {
   "cell_type": "code",
   "execution_count": 9,
   "id": "1ab54079",
   "metadata": {},
   "outputs": [
    {
     "name": "stdout",
     "output_type": "stream",
     "text": [
      "True\n",
      "5\n"
     ]
    }
   ],
   "source": [
    "# Given score = 85 and attendance = 0.9, write code to:\n",
    "# •\tCreate eligible = True if score >= 80 OR attendance >= 0.85\n",
    "# •\tCreate bonus = 10 if eligible and score > 90, else 5 if eligible, else 0\n",
    "score=85\n",
    "attendence=0.9\n",
    "eligible=True if score>=80 or attendence>=0.85 else False\n",
    "bonus=10 if eligible and score>90 else 5 if eligible else 0\n",
    "print(eligible)\n",
    "print(bonus)\n"
   ]
  },
  {
   "cell_type": "code",
   "execution_count": 10,
   "id": "23117819",
   "metadata": {},
   "outputs": [
    {
     "name": "stdout",
     "output_type": "stream",
     "text": [
      "x is within range\n"
     ]
    }
   ],
   "source": [
    "# you have x = 15. Write code to:\n",
    "# •\tCheck if x is between 10 and 20 (inclusive) using chained comparison\n",
    "# •\tCreate range_check with the boolean result\n",
    "# •\tCreate message based on the result\n",
    "\n",
    "x=15\n",
    "range_check=10<=x<=20\n",
    "message=\"x is within range\" if range_check else \" x is out of range\"\n",
    "print(message)\n"
   ]
  },
  {
   "cell_type": "markdown",
   "id": "88765bc2",
   "metadata": {},
   "source": [
    "# new"
   ]
  },
  {
   "cell_type": "code",
   "execution_count": 4,
   "id": "80213a86",
   "metadata": {},
   "outputs": [
    {
     "name": "stdout",
     "output_type": "stream",
     "text": [
      "{'Python': 6, 'is': 2, 'awesom': 6}\n"
     ]
    }
   ],
   "source": [
    "# Given text = \"Python is awesome\" and words_list = text.split(), write code to:\n",
    "# •\tCreate word_lengths dictionary where keys are words and values are their lengths\n",
    "# •\tUse dictionary comprehension\n",
    "text=\"Python is awesom\"\n",
    "words_list=text.split()\n",
    "word_lengths={i:len(i) for i in words_list}\n",
    "\n",
    "print(word_lengths)"
   ]
  },
  {
   "cell_type": "code",
   "execution_count": 8,
   "id": "598e4e5a",
   "metadata": {},
   "outputs": [
    {
     "name": "stdout",
     "output_type": "stream",
     "text": [
      "['Alice', 'Bob', 'Charlie']\n",
      "{'Bob', 'Alice'}\n"
     ]
    }
   ],
   "source": [
    "# You have data = [(\"Alice\", 85), (\"Bob\", 92), (\"Charlie\", 78)]. Write code to:\n",
    "# •\tCreate names list with just the names using list comprehension\n",
    "# •\tCreate high_scorers set with names of people who scored >= 80\n",
    "\n",
    "data = [(\"Alice\", 85), (\"Bob\", 92), (\"Charlie\", 78)]\n",
    "name=[i[0] for i in data]\n",
    "high_scores={i[0] for i in data if i[1]>=80}\n",
    "\n",
    "print(name)\n",
    "print(high_scores)"
   ]
  },
  {
   "cell_type": "code",
   "execution_count": 9,
   "id": "df824ca3",
   "metadata": {},
   "outputs": [
    {
     "name": "stdout",
     "output_type": "stream",
     "text": [
      "Avg_score84.33333333333333\n",
      "status:Active High Performer\n"
     ]
    }
   ],
   "source": [
    "# 33.\tGiven info = {\"name\": \"John\", \"scores\": [85, 90, 78], \"active\": True}, write code to:\n",
    "# •\tCalculate average score from the scores list\n",
    "# •\tCreate status = \"Active High Performer\" if active and avg >= 80, else \"Active\" if active, else \"Inactive\"\n",
    "\n",
    "info = {\"name\": \"John\", \"scores\": [85, 90, 78], \"active\": True}\n",
    "avg_score=sum(info['scores'])/len(info['scores'])\n",
    "status='Active High Performer' if (info['active'] and avg_score>=80 ) else 'Active' if info['active'] else 'inactive'\n",
    "print(f\"Avg_score{avg_score}\")\n",
    "print(f\"status:{status}\")"
   ]
  },
  {
   "cell_type": "code",
   "execution_count": 14,
   "id": "6d24f0e9",
   "metadata": {},
   "outputs": [
    {
     "name": "stdout",
     "output_type": "stream",
     "text": [
      "before: {' ', 'l', 'r', 'w', 'h', 'o', 'e', 'd'}\n",
      "after: {'l', 'r', 'w', 'h', 'o', 'e', 'd'}\n",
      "vowel_count: 2\n",
      "False\n"
     ]
    }
   ],
   "source": [
    "# 34.\tYou have sentence = \"Hello World\" and char_set = set(sentence.lower()). Write code to:\n",
    "# •\tRemove spaces from char_set if they exist\n",
    "# •\tCreate vowel_count by counting vowels (a,e,i,o,u) in char_set\n",
    "# •\tCreate has_many_vowels = True if vowel_count > 2\n",
    "\n",
    "sentence = \"Hello World\"\n",
    "vowel_count=0\n",
    "char_set = set(sentence.lower())\n",
    "print(\"before:\",char_set)\n",
    "char_set.discard(' ')\n",
    "print(\"after:\",char_set)\n",
    "for i in char_set:\n",
    "    if i in 'aeionu':\n",
    "        vowel_count=vowel_count+1\n",
    "has_many_vowels=vowel_count>2\n",
    "print(\"vowel_count:\",vowel_count)\n",
    "print(has_many_vowels)"
   ]
  },
  {
   "cell_type": "code",
   "execution_count": 17,
   "id": "7366a87c",
   "metadata": {},
   "outputs": [
    {
     "name": "stdout",
     "output_type": "stream",
     "text": [
      "top student: Bob\n"
     ]
    }
   ],
   "source": [
    "# 35.\tGiven students = [{\"name\": \"Alice\", \"grade\": 85}, {\"name\": \"Bob\", \"grade\": 92}], write code to:\n",
    "# •\tCreate top_student with the student dictionary that has the highest grade\n",
    "# •\tUse max() function with appropriate key parameter\n",
    "from operator import itemgetter\n",
    "students = [{\"name\": \"Alice\", \"grade\": 85}, {\"name\": \"Bob\", \"grade\": 92}]\n",
    "top_student=students[0]\n",
    "for student in students[1:]:\n",
    "    if student['grade']>top_student['grade']:\n",
    "        top_student=student\n",
    "print('top student:',top_student['name'])\n"
   ]
  },
  {
   "cell_type": "code",
   "execution_count": 18,
   "id": "a49faeba",
   "metadata": {},
   "outputs": [
    {
     "name": "stdout",
     "output_type": "stream",
     "text": [
      "{<class 'dict'>: 1, <class 'list'>: 1, <class 'int'>: 1, <class 'tuple'>: 1, <class 'str'>: 1}\n"
     ]
    }
   ],
   "source": [
    "# 36.\tYou have mixed_data = [1, \"hello\", [2, 3], {\"key\": \"value\"}, (4, 5)]. Write code to:\n",
    "# •\tCreate types_count dictionary counting how many of each type using type() and dictionary comprehension\n",
    "# •\tHandle the counting without loops\n",
    "mixed_data = [1, \"hello\", [2, 3], {\"key\": \"value\"}, (4, 5)]\n",
    "types_count={t:sum(type(x)==t for x in mixed_data) for t in set(type(x) for x in mixed_data)}\n",
    "print(types_count)"
   ]
  },
  {
   "cell_type": "code",
   "execution_count": 22,
   "id": "7d99e996",
   "metadata": {},
   "outputs": [
    {
     "name": "stdout",
     "output_type": "stream",
     "text": [
      "True\n"
     ]
    }
   ],
   "source": [
    "# 37.\tGiven text1 = \"listen\" and text2 = \"silent\", write code to:\n",
    "# •\tCheck if they are anagrams by comparing sorted characters\n",
    "# •\tCreate are_anagrams boolean result\n",
    "# •\tUse sorted() and conditional expression\n",
    "text1 = \"listen\"\n",
    "text2 = \"silent\"\n",
    "are_anagrams=True if sorted(text1)==sorted(text2) else False\n",
    "print(are_anagrams)"
   ]
  },
  {
   "cell_type": "code",
   "execution_count": null,
   "id": "c465317d",
   "metadata": {},
   "outputs": [],
   "source": [
    "# 38.\tYou have matrix = [[1, 2, 3], [4, 5, 6], [7, 8, 9]]. Write code to:\n",
    "# •\tExtract the diagonal elements (positions [0][0], [1][1], [2][2]) into a list\n",
    "# •\tCalculate sum of diagonal elements\n",
    "# •\tUse list comprehension with enumerate or direct indexing\n",
    "\n"
   ]
  }
 ],
 "metadata": {
  "kernelspec": {
   "display_name": "base",
   "language": "python",
   "name": "python3"
  },
  "language_info": {
   "codemirror_mode": {
    "name": "ipython",
    "version": 3
   },
   "file_extension": ".py",
   "mimetype": "text/x-python",
   "name": "python",
   "nbconvert_exporter": "python",
   "pygments_lexer": "ipython3",
   "version": "3.12.4"
  }
 },
 "nbformat": 4,
 "nbformat_minor": 5
}
