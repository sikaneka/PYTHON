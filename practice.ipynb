{
 "cells": [
  {
   "cell_type": "code",
   "execution_count": 1,
   "id": "41b8be4b",
   "metadata": {},
   "outputs": [
    {
     "name": "stdout",
     "output_type": "stream",
     "text": [
      "Hello\n"
     ]
    }
   ],
   "source": [
    "''' 1.\tGiven the string text = \"Hello World Python\", write code to:\n",
    "•\tGet the first 5 characters if the string length is greater than 10, otherwise get the last 3 characters\n",
    "•\tStore the result in a variable called result'''\n",
    "\n",
    "text=\"Hello World python\"\n",
    "if len(text)>10:\n",
    "    result=text[0:5]\n",
    "    print(result)\n",
    "else:\n",
    "    result=text[-3:]\n",
    "    print(result)\n"
   ]
  },
  {
   "cell_type": "code",
   "execution_count": 2,
   "id": "efd9343b",
   "metadata": {},
   "outputs": [
    {
     "data": {
      "text/plain": [
       "'Alice smith'"
      ]
     },
     "execution_count": 2,
     "metadata": {},
     "output_type": "execute_result"
    }
   ],
   "source": [
    "'''2.\tYou have name = \"alice smith\". Write code to:\n",
    "•\tCapitalize the string if it contains a space, otherwise convert it to uppercase\n",
    "•\tUse a conditional expression (ternary operator)\n",
    "'''\n",
    "\n",
    "name='alice smith'\n",
    "name.capitalize() if (' ' in name) else (name.upper())\n"
   ]
  }
 ],
 "metadata": {
  "kernelspec": {
   "display_name": "base",
   "language": "python",
   "name": "python3"
  },
  "language_info": {
   "codemirror_mode": {
    "name": "ipython",
    "version": 3
   },
   "file_extension": ".py",
   "mimetype": "text/x-python",
   "name": "python",
   "nbconvert_exporter": "python",
   "pygments_lexer": "ipython3",
   "version": "3.12.4"
  }
 },
 "nbformat": 4,
 "nbformat_minor": 5
}
