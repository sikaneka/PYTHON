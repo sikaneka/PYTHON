{
 "cells": [
  {
   "cell_type": "markdown",
   "id": "fc0acfe3",
   "metadata": {},
   "source": [
    "## STRINGS"
   ]
  },
  {
   "cell_type": "code",
   "execution_count": 2,
   "id": "41b8be4b",
   "metadata": {},
   "outputs": [
    {
     "name": "stdout",
     "output_type": "stream",
     "text": [
      "Hello\n"
     ]
    }
   ],
   "source": [
    "# 1. Given the string text = \"Hello World Python\", write code to:\n",
    "# •\tGet the first 5 characters if the string length is greater than 10, otherwise get the last 3 characters\n",
    "# •\tStore the result in a variable called result\n",
    "\n",
    "text=\"Hello World python\"\n",
    "if len(text)>10:\n",
    "    result=text[0:5]\n",
    "    print(result)\n",
    "else:\n",
    "    result=text[-3:]\n",
    "    print(result)\n"
   ]
  },
  {
   "cell_type": "code",
   "execution_count": 3,
   "id": "efd9343b",
   "metadata": {},
   "outputs": [
    {
     "data": {
      "text/plain": [
       "'Alice smith'"
      ]
     },
     "execution_count": 3,
     "metadata": {},
     "output_type": "execute_result"
    }
   ],
   "source": [
    "# 2. You have name = \"alice smith\". Write code to:\n",
    "# •\tCapitalize the string if it contains a space, otherwise convert it to uppercase\n",
    "# •\tUse a conditional expression (ternary operator)\n",
    "\n",
    "\n",
    "name='alice smith'\n",
    "name.capitalize() if (' ' in name) else (name.upper())\n"
   ]
  },
  {
   "cell_type": "code",
   "execution_count": 4,
   "id": "9a159eb9",
   "metadata": {},
   "outputs": [
    {
     "name": "stdout",
     "output_type": "stream",
     "text": [
      "Long sentence\n"
     ]
    }
   ],
   "source": [
    "# 3. Given sentence = \"The quick brown fox\", create a variable word_count that:\n",
    "# •\tContains the number of words in the sentence\n",
    "# •\tThen create message that says \"Long sentence\" if word_count > 3, else \"Short sentence\"\n",
    "\n",
    "\n",
    "sentence=\"The quick brown fox\"\n",
    "word_count=len(sentence.split())\n",
    "\n",
    "if word_count>3:\n",
    "    print(\"Long sentence\")\n",
    "else :\n",
    "    print(\"short sentence\")\n"
   ]
  },
  {
   "cell_type": "code",
   "execution_count": 5,
   "id": "09cafc3e",
   "metadata": {},
   "outputs": [
    {
     "name": "stdout",
     "output_type": "stream",
     "text": [
      "user\n"
     ]
    }
   ],
   "source": [
    "# 4. You have email = \"user@example.com\". Write code to:\n",
    "# •\tExtract the username (part before @) if email contains @, otherwise return \"Invalid\"\n",
    "# •\tStore in variable username\n",
    "\n",
    "email=\"user@example.com\"\n",
    "if '@' in email:\n",
    "    print(email[:email.find('@')])\n",
    "else:\n",
    "    print(\"Invalid\")\n",
    "\n"
   ]
  },
  {
   "cell_type": "code",
   "execution_count": 6,
   "id": "e94395a0",
   "metadata": {},
   "outputs": [
    {
     "data": {
      "text/plain": [
       "'Python programming'"
      ]
     },
     "execution_count": 6,
     "metadata": {},
     "output_type": "execute_result"
    }
   ],
   "source": [
    "# 5. Given text = \" Python Programming \", write a single line that:\n",
    "# •\tStrips whitespace, converts to lowercase, and capitalizes first letter\n",
    "# •\tOnly if the original text length > 5\n",
    "\n",
    "\n",
    "text=\" Python Programming \"\n",
    "(((text.strip()).lower()).capitalize()) if len(text)>5 else \"nothing\""
   ]
  },
  {
   "cell_type": "markdown",
   "id": "872cb77f",
   "metadata": {},
   "source": [
    "## LISTS"
   ]
  },
  {
   "cell_type": "code",
   "execution_count": 7,
   "id": "81014fc4",
   "metadata": {},
   "outputs": [
    {
     "name": "stdout",
     "output_type": "stream",
     "text": [
      "[10, 25]\n",
      "35\n"
     ]
    }
   ],
   "source": [
    "# 6. You have numbers = [10, 25, 30, 45, 50]. Write code to:\n",
    "# •\tCreate first_half with first 3 elements if list length > 4, else entire list\n",
    "# •\tCreate sum_result with sum of first_half\n",
    "\n",
    "numbers=[10,25,30,45,50]\n",
    "if len(numbers)>4:\n",
    "    result=numbers[:len(numbers)//2]\n",
    "    print(result)\n",
    "else:\n",
    "    print(numbers)\n",
    "print(sum(numbers[:len(numbers)//2]))\n",
    "\n"
   ]
  },
  {
   "cell_type": "code",
   "execution_count": 8,
   "id": "4e7af4d2",
   "metadata": {},
   "outputs": [
    {
     "name": "stdout",
     "output_type": "stream",
     "text": [
      "['apple', 'banana', 'cherry', 'orange']\n",
      "['orange', 'cherry', 'banana', 'apple']\n"
     ]
    }
   ],
   "source": [
    "# 7. Given fruits = [\"apple\", \"banana\", \"cherry\"], write code to:\n",
    "# •\tAdd \"orange\" to the list if \"banana\" is in the list\n",
    "# •\tSort the list in reverse order if it has more than 3 elements\n",
    "\n",
    "\n",
    "fruits = [\"apple\", \"banana\", \"cherry\"]\n",
    "if 'banana' in fruits:\n",
    "    fruits.append(\"orange\")\n",
    "print(fruits)\n",
    "if len(fruits)>3:\n",
    "    fruits.sort(reverse=True)\n",
    "print(fruits)\n",
    "\n"
   ]
  },
  {
   "cell_type": "code",
   "execution_count": 9,
   "id": "6cfab057",
   "metadata": {},
   "outputs": [
    {
     "name": "stdout",
     "output_type": "stream",
     "text": [
      "evens:[2, 4, 6, 8, 10]\n",
      "odds:[1, 3, 5, 7, 9]\n"
     ]
    }
   ],
   "source": [
    "# 8. You have data = [1, 2, 3, 4, 5, 6, 7, 8, 9, 10]. Create:\n",
    "# •\tevens list containing only even numbers using list comprehension\n",
    "# •\todds list containing only odd numbers using list comprehension\n",
    "\n",
    "\n",
    "data = [1, 2, 3, 4, 5, 6, 7, 8, 9, 10]\n",
    "evens=[x for x in data if x%2==0]\n",
    "odds=[x for x in data if x%2!=0]\n",
    "print(f\"evens:{evens}\\nodds:{odds}\")\n",
    "        \n"
   ]
  },
  {
   "cell_type": "code",
   "execution_count": 10,
   "id": "ce342cba",
   "metadata": {},
   "outputs": [
    {
     "name": "stdout",
     "output_type": "stream",
     "text": [
      "Eligible with first class\n"
     ]
    }
   ],
   "source": [
    "# 9. Given scores = [85, 92, 78, 96, 88], write code to:\n",
    "# •\tFind highest score using max()\n",
    "# •\tCreate grade variable: \"A\" if highest >= 90, \"B\" if >= 80, else \"C\"\n",
    "\n",
    "import math\n",
    "scores = [85, 92, 78, 96, 88]\n",
    "highest=max(scores)\n",
    "if highest>=90:\n",
    "    print(\"Eligible with first class\")\n",
    "elif highest>=80:\n",
    "    print(\"Eligible\")\n",
    "else:\n",
    "    print('C')\n"
   ]
  },
  {
   "cell_type": "code",
   "execution_count": 11,
   "id": "377ecdef",
   "metadata": {},
   "outputs": [
    {
     "name": "stdout",
     "output_type": "stream",
     "text": [
      "2\n"
     ]
    }
   ],
   "source": [
    "# 10. You have nested = [[1, 2], [3, 4], [5, 6]]. Write code to:\n",
    "# •\tGet the second element of the first sublist\n",
    "# •\tCreate result that doubles this value if it's even, else keeps it same\n",
    "\n",
    "\n",
    "nested = [[1, 2], [3, 4], [5, 6]]\n",
    "print(nested[0][1])"
   ]
  },
  {
   "cell_type": "markdown",
   "id": "72af730a",
   "metadata": {},
   "source": [
    "# TUPLES"
   ]
  },
  {
   "cell_type": "code",
   "execution_count": 12,
   "id": "780de77e",
   "metadata": {},
   "outputs": [
    {
     "name": "stdout",
     "output_type": "stream",
     "text": [
      "True\n"
     ]
    }
   ],
   "source": [
    "# 11. Given coordinates = (10, 20, 30), write code to:\n",
    "# •\tUnpack into variables x, y, z\n",
    "# •\tCreate is_positive boolean that's True if all values > 0\n",
    "\n",
    "\n",
    "coordinates=(10,20,30)\n",
    "x,y,z=coordinates\n",
    "is_positive=all(val>0 for val in coordinates)\n",
    "print(is_positive)\n"
   ]
  },
  {
   "cell_type": "code",
   "execution_count": 13,
   "id": "95cbfe87",
   "metadata": {},
   "outputs": [
    {
     "name": "stdout",
     "output_type": "stream",
     "text": [
      "pass\n"
     ]
    }
   ],
   "source": [
    "# 12. You have student = (\"Alice\", 85, \"Math\"). Write code to:\n",
    "# •\tExtract name, score, and subject using tuple unpacking\n",
    "# •\tCreate status = \"Pass\" if score >= 60, else \"Fail\"\n",
    "\n",
    "student=(\"Alice\",85,\"math\")\n",
    "name,score,subject=student\n",
    "if score>=60:\n",
    "    status=\"pass\"\n",
    "    print(status)\n",
    "else:\n",
    "    print(\"fail\")"
   ]
  },
  {
   "cell_type": "code",
   "execution_count": 14,
   "id": "bf4af195",
   "metadata": {},
   "outputs": [
    {
     "name": "stdout",
     "output_type": "stream",
     "text": [
      "the length is 4\n"
     ]
    }
   ],
   "source": [
    "# 13. Given point1 = (1, 2) and point2 = (3, 4), write code to:\n",
    "# •\tCreate combined tuple by concatenating both tuples\n",
    "# •\tCheck if length of combined tuple equals 4\n",
    "\n",
    "point1=(1,2)\n",
    "point2=(3,4)\n",
    "t1=point1+point2\n",
    "if len(t1)==4:\n",
    "    print(\"the length is 4\")\n",
    "else:\n",
    "    print(\"length is not 4\")\n",
    "    "
   ]
  },
  {
   "cell_type": "code",
   "execution_count": 15,
   "id": "edaff5bb",
   "metadata": {},
   "outputs": [
    {
     "name": "stdout",
     "output_type": "stream",
     "text": [
      "no.of 5s in data:  3\n",
      "frequency is  High\n"
     ]
    }
   ],
   "source": [
    "# 14. You have data = (5, 10, 5, 20, 5, 30). Write code to:\n",
    "# •\tCount how many times 5 appears using .count()\n",
    "# •\tCreate frequency = \"High\" if count > 2, else \"Low\"\n",
    "\n",
    "data=(5,10,5,20,5,30)\n",
    "print(\"no.of 5s in data: \",data.count(5))\n",
    "if data.count(5)>2:\n",
    "    frequency=\"High\"\n",
    "    print(\"frequency is \",frequency)\n",
    "else:\n",
    "    frequency='Low'\n",
    "    print(\"frequency is \",frequency)"
   ]
  },
  {
   "cell_type": "code",
   "execution_count": 16,
   "id": "388e317e",
   "metadata": {},
   "outputs": [
    {
     "name": "stdout",
     "output_type": "stream",
     "text": [
      "30\n",
      "category is  Adult\n"
     ]
    }
   ],
   "source": [
    "# 15. Given info = ((\"John\", 25), (\"Alice\", 30), (\"Bob\", 20)), write code to:\n",
    "# •\tAccess Alice's age (second element of second tuple)\n",
    "# •\tCreate category = \"Adult\" if age >= 18, else \"Minor\"\n",
    "\n",
    "info = ((\"John\", 25), (\"Alice\", 30), (\"Bob\", 20))\n",
    "print(info[1][1])\n",
    "age=info[1][1]\n",
    "if age>=18:\n",
    "    category=\"Adult\"\n",
    "    print(\"category is \",category)\n",
    "else:\n",
    "    category=\"Minor\"\n",
    "    print(\"category is \",category)"
   ]
  },
  {
   "cell_type": "markdown",
   "id": "488a35f7",
   "metadata": {},
   "source": [
    "# SET"
   ]
  },
  {
   "cell_type": "code",
   "execution_count": 17,
   "id": "4d3ad28c",
   "metadata": {},
   "outputs": [
    {
     "name": "stdout",
     "output_type": "stream",
     "text": [
      "{1, 2, 3, 4}\n",
      "True\n"
     ]
    }
   ],
   "source": [
    "# 16. You have list1 = [1, 2, 2, 3, 3, 4]. Write code to:\n",
    "# •\tCreate unique_set from the list\n",
    "# •\tCreate has_duplicates boolean (True if original list length > set length)\n",
    "\n",
    "list1=[1,2,2,3,3,4]\n",
    "unique_set=set(list1)\n",
    "print(unique_set)\n",
    "has_duplicates=len(list1)>len(unique_set)\n",
    "print(has_duplicates)"
   ]
  },
  {
   "cell_type": "code",
   "execution_count": 18,
   "id": "e667e3a0",
   "metadata": {},
   "outputs": [
    {
     "name": "stdout",
     "output_type": "stream",
     "text": [
      "common elements are: {3, 4}\n",
      "all items are: {1, 2, 3, 4, 5, 6}\n",
      "has common elements True\n"
     ]
    }
   ],
   "source": [
    "# 17. Given set1 = {1, 2, 3, 4} and set2 = {3, 4, 5, 6}, write code to:\n",
    "# •\tCreate common with intersection of both sets\n",
    "# •\tCreate all_items with union of both sets\n",
    "# •\tCheck if common set is not empty\n",
    "\n",
    "set1 = {1, 2, 3, 4}\n",
    "set2 = {3, 4, 5, 6}\n",
    "common=set1.intersection(set2)\n",
    "all_items=set1.union(set2)\n",
    "print(f\"common elements are: {common}\")\n",
    "print(f\"all items are: {all_items}\")\n",
    "has_common=len(common)>0\n",
    "print(\"has common elements\",has_common)\n"
   ]
  },
  {
   "cell_type": "code",
   "execution_count": 19,
   "id": "85ee804f",
   "metadata": {},
   "outputs": [
    {
     "name": "stdout",
     "output_type": "stream",
     "text": [
      "3\n"
     ]
    }
   ],
   "source": [
    "# 18. You have colors = {\"red\", \"blue\", \"green\"}. Write code to:\n",
    "# •\tAdd \"yellow\" if set size < 4\n",
    "# •\tCreate color_count with the final size of the set\n",
    "\n",
    "colors = {\"red\", \"blue\", \"green\"}\n",
    "if len(colors)>4:\n",
    "    colors.add('yellow')\n",
    "color_count=len(colors)\n",
    "print(color_count)"
   ]
  },
  {
   "cell_type": "code",
   "execution_count": 20,
   "id": "fe266a6d",
   "metadata": {},
   "outputs": [
    {
     "name": "stdout",
     "output_type": "stream",
     "text": [
      "{'python', 'fun'}\n"
     ]
    }
   ],
   "source": [
    "# 19. Given tags1 = {\"python\", \"coding\", \"fun\"} and tags2 = {\"java\", \"coding\", \"work\"}, write code to:\n",
    "# •\tFind tags that are in tags1 but not in tags2\n",
    "# •\tStore result in unique_tags1\n",
    "\n",
    "tags1 = {\"python\", \"coding\", \"fun\"}\n",
    "tags2 = {\"java\", \"coding\", \"work\"}\n",
    "unique_tags1=tags1-tags2\n",
    "print(unique_tags1)"
   ]
  },
  {
   "cell_type": "code",
   "execution_count": 21,
   "id": "24510e33",
   "metadata": {},
   "outputs": [
    {
     "name": "stdout",
     "output_type": "stream",
     "text": [
      "{2, 4}\n",
      "True\n"
     ]
    }
   ],
   "source": [
    "# 20. You have numbers_set = {1, 2, 3, 4, 5}. Write code to:\n",
    "# •\tCreate even_set containing only even numbers using set comprehension\n",
    "# •\tCheck if even_set is a subset of numbers_set\n",
    "\n",
    "numbers_set = {1, 2, 3, 4, 5}\n",
    "even_set={x for x in numbers_set if x%2==0}\n",
    "print(even_set)\n",
    "print(even_set.issubset(numbers_set))"
   ]
  },
  {
   "cell_type": "markdown",
   "id": "4a7057a8",
   "metadata": {},
   "source": [
    "# Dictionary"
   ]
  },
  {
   "cell_type": "code",
   "execution_count": 22,
   "id": "0ceb7153",
   "metadata": {},
   "outputs": [
    {
     "name": "stdout",
     "output_type": "stream",
     "text": [
      "B\n"
     ]
    }
   ],
   "source": [
    "# 21. Given student = {\"name\": \"John\", \"age\": 20, \"grade\": 85}, write code to:\n",
    "# •\tGet the grade using .get() method with default value 0\n",
    "# •\tCreate letter_grade = \"A\" if grade >= 90, \"B\" if >= 80, else \"C\"\n",
    "\n",
    "student = {\"name\": \"John\", \"age\": 20, \"grade\": 85}\n",
    "grade=student.get('grade',0)\n",
    "letter_grade='A' if grade>=90 else 'B' if grade>=80 else 'C'\n",
    "print(letter_grade)"
   ]
  },
  {
   "cell_type": "code",
   "execution_count": 23,
   "id": "80df6caf",
   "metadata": {},
   "outputs": [
    {
     "name": "stdout",
     "output_type": "stream",
     "text": [
      "{'apples': 50, 'bananas': 30, 'oranges': 20, 'grapes': 25}\n"
     ]
    }
   ],
   "source": [
    "# 22. You have inventory = {\"apples\": 50, \"bananas\": 30, \"oranges\": 20}. Write code to:\n",
    "# •\tGet total items using sum() on values\n",
    "# •\tAdd \"grapes\": 25 if total items < 120\n",
    "\n",
    "inventory = {\"apples\": 50, \"bananas\": 30, \"oranges\": 20}\n",
    "total_items=sum(inventory.values())\n",
    "inventory.update({\"grapes\":25}) if total_items<120 else None\n",
    "print(inventory)"
   ]
  },
  {
   "cell_type": "code",
   "execution_count": 24,
   "id": "dc007439",
   "metadata": {},
   "outputs": [
    {
     "name": "stdout",
     "output_type": "stream",
     "text": [
      "Full name: Alice Smith\n",
      "Alice A\n",
      "Smith S\n"
     ]
    }
   ],
   "source": [
    "# 23. Given person = {\"first_name\": \"Alice\", \"last_name\": \"Smith\"}, write code to:\n",
    "# •\tCreate full_name by joining first_name and last_name with space\n",
    "# •\tCreate initials with first letter of each name (use indexing)\n",
    "\n",
    "person = {\"first_name\": \"Alice\", \"last_name\": \"Smith\"}\n",
    "full_name=' '.join(person.values())\n",
    "fname=person[\"first_name\"]+\" \"+person[\"first_name\"][0]\n",
    "lname=person[\"last_name\"]+\" \" +person[\"last_name\"][0]\n",
    "print(f\"Full name: {full_name}\")\n",
    "print(f\"{fname}\\n{lname}\")"
   ]
  },
  {
   "cell_type": "code",
   "execution_count": 25,
   "id": "d0332b4e",
   "metadata": {},
   "outputs": [
    {
     "name": "stdout",
     "output_type": "stream",
     "text": [
      "subject: dict_keys(['math', 'science', 'english'])\n",
      "avg_score: 85.0\n",
      "performance: Good\n"
     ]
    }
   ],
   "source": [
    "# 24. You have scores = {\"math\": 85, \"science\": 92, \"english\": 78}. Write code to:\n",
    "# •\tCreate subjects list from dictionary keys\n",
    "# •\tCreate avg_score by calculating average of values\n",
    "# •\tCreate performance = \"Good\" if avg_score >= 80, else \"Needs Improvement\"\n",
    "\n",
    "scores = {\"math\": 85, \"science\": 92, \"english\": 78}\n",
    "subject=scores.keys()\n",
    "avg_score=sum(scores.values())/len(scores)\n",
    "performance=\"Good\" if avg_score>=80 else \"Needs Improvement\"\n",
    "print(f\"subject: {subject}\\navg_score: {avg_score}\\nperformance: {performance}\")"
   ]
  },
  {
   "cell_type": "code",
   "execution_count": 26,
   "id": "e08389d0",
   "metadata": {},
   "outputs": [
    {
     "name": "stdout",
     "output_type": "stream",
     "text": [
      "there is a key 'active' and its value is 'True'\n",
      "John\n"
     ]
    }
   ],
   "source": [
    "# 25. Given data = {\"users\": [\"John\", \"Alice\"], \"active\": True, \"count\": 2}, write code to:\n",
    "# •\tCheck if \"active\" key exists and its value is True\n",
    "# •\tGet first user from users list if it exists, else \"No users\"\n",
    "\n",
    "data = {\"users\": [\"John\", \"Alice\"], \"active\": True, \"count\": 2}\n",
    "\n",
    "if 'active' in data and data.get('active')==True:\n",
    "    print(\"there is a key 'active' and its value is 'True'\")\n",
    "first_user=data.get('users',[])\n",
    "print(first_user[0] if first_user else \"No users\")\n"
   ]
  },
  {
   "cell_type": "code",
   "execution_count": 27,
   "id": "f73686c1",
   "metadata": {},
   "outputs": [
    {
     "name": "stdout",
     "output_type": "stream",
     "text": [
      "warm\n"
     ]
    }
   ],
   "source": [
    "# 26. You have temperature = 75. Write code to:\n",
    "# •\tCreate weather = \"Hot\" if temp > 80, \"Warm\" if > 60, \"Cold\" if <= 60\n",
    "# •\tUse chained conditional expressions (nested ternary operators)\n",
    "\n",
    "temp=75\n",
    "weather=\"Hot\" if temp>80 else \"warm\" if temp>60 else \"cold\" \n",
    "print(weather)"
   ]
  },
  {
   "cell_type": "code",
   "execution_count": 28,
   "id": "c29c9677",
   "metadata": {},
   "outputs": [
    {
     "name": "stdout",
     "output_type": "stream",
     "text": [
      "Granted\n"
     ]
    }
   ],
   "source": [
    "# 27. Given username = \"admin\" and password = \"secret123\", write code to:\n",
    "# •\tCreate access = \"Granted\" if both username == \"admin\" AND password length > 6\n",
    "# •\tUse boolean operators\n",
    "\n",
    "username=\"admin\"\n",
    "password=\"secret123\"\n",
    "access=\"Granted\" if username==\"admin\" and len(password)>6 else \"denied\"\n",
    "print(access)"
   ]
  },
  {
   "cell_type": "code",
   "execution_count": 29,
   "id": "a6c66c81",
   "metadata": {},
   "outputs": [
    {
     "data": {
      "text/plain": [
       "'can drive'"
      ]
     },
     "execution_count": 29,
     "metadata": {},
     "output_type": "execute_result"
    }
   ],
   "source": [
    "# 28. You have age = 25 and has_license = True. Write code to:\n",
    "# •\tCreate can_drive boolean that's True if age >= 18 AND has_license is True\n",
    "# •\tCreate status message based on can_drive value\n",
    "age=25\n",
    "has_licence=True\n",
    "can_drive=age>=18 and has_licence\n",
    "status_msg=\"can drive\" if can_drive else \"can not drive\"\n",
    "status_msg"
   ]
  },
  {
   "cell_type": "code",
   "execution_count": 30,
   "id": "1ab54079",
   "metadata": {},
   "outputs": [
    {
     "name": "stdout",
     "output_type": "stream",
     "text": [
      "True\n",
      "5\n"
     ]
    }
   ],
   "source": [
    "# 29. Given score = 85 and attendance = 0.9, write code to:\n",
    "# •\tCreate eligible = True if score >= 80 OR attendance >= 0.85\n",
    "# •\tCreate bonus = 10 if eligible and score > 90, else 5 if eligible, else 0\n",
    "score=85\n",
    "attendence=0.9\n",
    "eligible=True if score>=80 or attendence>=0.85 else False\n",
    "bonus=10 if eligible and score>90 else 5 if eligible else 0\n",
    "print(eligible)\n",
    "print(bonus)\n"
   ]
  },
  {
   "cell_type": "code",
   "execution_count": 31,
   "id": "23117819",
   "metadata": {},
   "outputs": [
    {
     "name": "stdout",
     "output_type": "stream",
     "text": [
      "x is within range\n"
     ]
    }
   ],
   "source": [
    "# 30. you have x = 15. Write code to:\n",
    "# •\tCheck if x is between 10 and 20 (inclusive) using chained comparison\n",
    "# •\tCreate range_check with the boolean result\n",
    "# •\tCreate message based on the result\n",
    "\n",
    "x=15\n",
    "range_check=10<=x<=20\n",
    "message=\"x is within range\" if range_check else \" x is out of range\"\n",
    "print(message)\n"
   ]
  },
  {
   "cell_type": "markdown",
   "id": "88765bc2",
   "metadata": {},
   "source": [
    "# new"
   ]
  },
  {
   "cell_type": "code",
   "execution_count": 32,
   "id": "80213a86",
   "metadata": {},
   "outputs": [
    {
     "name": "stdout",
     "output_type": "stream",
     "text": [
      "{'Python': 6, 'is': 2, 'awesom': 6}\n"
     ]
    }
   ],
   "source": [
    "# 31. Given text = \"Python is awesome\" and words_list = text.split(), write code to:\n",
    "# •\tCreate word_lengths dictionary where keys are words and values are their lengths\n",
    "# •\tUse dictionary comprehension\n",
    "text=\"Python is awesom\"\n",
    "words_list=text.split()\n",
    "word_lengths={i:len(i) for i in words_list}\n",
    "\n",
    "print(word_lengths)"
   ]
  },
  {
   "cell_type": "code",
   "execution_count": 33,
   "id": "598e4e5a",
   "metadata": {},
   "outputs": [
    {
     "name": "stdout",
     "output_type": "stream",
     "text": [
      "['Alice', 'Bob', 'Charlie']\n",
      "{'Bob', 'Alice'}\n"
     ]
    }
   ],
   "source": [
    "# 32. You have data = [(\"Alice\", 85), (\"Bob\", 92), (\"Charlie\", 78)]. Write code to:\n",
    "# •\tCreate names list with just the names using list comprehension\n",
    "# •\tCreate high_scorers set with names of people who scored >= 80\n",
    "\n",
    "data = [(\"Alice\", 85), (\"Bob\", 92), (\"Charlie\", 78)]\n",
    "name=[i[0] for i in data]\n",
    "high_scores={i[0] for i in data if i[1]>=80}\n",
    "\n",
    "print(name)\n",
    "print(high_scores)"
   ]
  },
  {
   "cell_type": "code",
   "execution_count": 34,
   "id": "df824ca3",
   "metadata": {},
   "outputs": [
    {
     "name": "stdout",
     "output_type": "stream",
     "text": [
      "Avg_score84.33333333333333\n",
      "status:Active High Performer\n"
     ]
    }
   ],
   "source": [
    "# 33.\tGiven info = {\"name\": \"John\", \"scores\": [85, 90, 78], \"active\": True}, write code to:\n",
    "# •\tCalculate average score from the scores list\n",
    "# •\tCreate status = \"Active High Performer\" if active and avg >= 80, else \"Active\" if active, else \"Inactive\"\n",
    "\n",
    "info = {\"name\": \"John\", \"scores\": [85, 90, 78], \"active\": True}\n",
    "avg_score=sum(info['scores'])/len(info['scores'])\n",
    "status='Active High Performer' if (info['active'] and avg_score>=80 ) else 'Active' if info['active'] else 'inactive'\n",
    "print(f\"Avg_score{avg_score}\")\n",
    "print(f\"status:{status}\")"
   ]
  },
  {
   "cell_type": "code",
   "execution_count": 35,
   "id": "6d24f0e9",
   "metadata": {},
   "outputs": [
    {
     "name": "stdout",
     "output_type": "stream",
     "text": [
      "before: {'o', 'h', ' ', 'd', 'w', 'l', 'e', 'r'}\n",
      "after: {'o', 'h', 'd', 'w', 'l', 'e', 'r'}\n",
      "vowel_count: 2\n",
      "False\n"
     ]
    }
   ],
   "source": [
    "# 34.\tYou have sentence = \"Hello World\" and char_set = set(sentence.lower()). Write code to:\n",
    "# •\tRemove spaces from char_set if they exist\n",
    "# •\tCreate vowel_count by counting vowels (a,e,i,o,u) in char_set\n",
    "# •\tCreate has_many_vowels = True if vowel_count > 2\n",
    "\n",
    "sentence = \"Hello World\"\n",
    "vowel_count=0\n",
    "char_set = set(sentence.lower())\n",
    "print(\"before:\",char_set)\n",
    "char_set.discard(' ')\n",
    "print(\"after:\",char_set)\n",
    "for i in char_set:\n",
    "    if i in 'aeionu':\n",
    "        vowel_count=vowel_count+1\n",
    "has_many_vowels=vowel_count>2\n",
    "print(\"vowel_count:\",vowel_count)\n",
    "print(has_many_vowels)"
   ]
  },
  {
   "cell_type": "code",
   "execution_count": 36,
   "id": "7366a87c",
   "metadata": {},
   "outputs": [
    {
     "name": "stdout",
     "output_type": "stream",
     "text": [
      "top student: Bob\n"
     ]
    }
   ],
   "source": [
    "# 35.\tGiven students = [{\"name\": \"Alice\", \"grade\": 85}, {\"name\": \"Bob\", \"grade\": 92}], write code to:\n",
    "# •\tCreate top_student with the student dictionary that has the highest grade\n",
    "# •\tUse max() function with appropriate key parameter\n",
    "from operator import itemgetter\n",
    "students = [{\"name\": \"Alice\", \"grade\": 85}, {\"name\": \"Bob\", \"grade\": 92}]\n",
    "top_student=students[0]\n",
    "for student in students[1:]:\n",
    "    if student['grade']>top_student['grade']:\n",
    "        top_student=student\n",
    "print('top student:',top_student['name'])\n"
   ]
  },
  {
   "cell_type": "code",
   "execution_count": 37,
   "id": "a49faeba",
   "metadata": {},
   "outputs": [
    {
     "name": "stdout",
     "output_type": "stream",
     "text": [
      "{<class 'dict'>: 1, <class 'list'>: 1, <class 'int'>: 1, <class 'tuple'>: 1, <class 'str'>: 1}\n"
     ]
    }
   ],
   "source": [
    "# 36.\tYou have mixed_data = [1, \"hello\", [2, 3], {\"key\": \"value\"}, (4, 5)]. Write code to:\n",
    "# •\tCreate types_count dictionary counting how many of each type using type() and dictionary comprehension\n",
    "# •\tHandle the counting without loops\n",
    "mixed_data = [1, \"hello\", [2, 3], {\"key\": \"value\"}, (4, 5)]\n",
    "types_count={t:sum(type(x)==t for x in mixed_data) for t in set(type(x) for x in mixed_data)}\n",
    "print(types_count)"
   ]
  },
  {
   "cell_type": "code",
   "execution_count": 38,
   "id": "7d99e996",
   "metadata": {},
   "outputs": [
    {
     "name": "stdout",
     "output_type": "stream",
     "text": [
      "True\n"
     ]
    }
   ],
   "source": [
    "# 37.\tGiven text1 = \"listen\" and text2 = \"silent\", write code to:\n",
    "# •\tCheck if they are anagrams by comparing sorted characters\n",
    "# •\tCreate are_anagrams boolean result\n",
    "# •\tUse sorted() and conditional expression\n",
    "text1 = \"listen\"\n",
    "text2 = \"silent\"\n",
    "are_anagrams=True if sorted(text1)==sorted(text2) else False\n",
    "print(are_anagrams)"
   ]
  },
  {
   "cell_type": "code",
   "execution_count": 39,
   "id": "c465317d",
   "metadata": {},
   "outputs": [
    {
     "name": "stdout",
     "output_type": "stream",
     "text": [
      "[1, 5, 9]\n",
      "sum of diagonal elements are:  15\n"
     ]
    }
   ],
   "source": [
    "# 38.\tYou have matrix = [[1, 2, 3], [4, 5, 6], [7, 8, 9]]. Write code to:\n",
    "# •\tExtract the diagonal elements (positions [0][0], [1][1], [2][2]) into a list\n",
    "# •\tCalculate sum of diagonal elements\n",
    "# •\tUse list comprehension with enumerate or direct indexing\n",
    "\n",
    "matrix = [[1, 2, 3], [4, 5, 6], [7, 8, 9]]\n",
    "l=[]\n",
    "[l.append(matrix[i][i]) for i in range(len(matrix))]\n",
    "print(l)\n",
    "print(\"sum of diagonal elements are: \",sum(l))"
   ]
  },
  {
   "cell_type": "code",
   "execution_count": 40,
   "id": "89213302",
   "metadata": {},
   "outputs": [
    {
     "name": "stdout",
     "output_type": "stream",
     "text": [
      "items and their corresponding costs: {'apple': 1.5, 'banana': 0.6, 'orange': 0.8}\n",
      "Final bill amount is: 0.29\n"
     ]
    }
   ],
   "source": [
    "# 39.\tGiven shopping_cart = {\"apple\": 3, \"banana\": 2, \"orange\": 1} and prices = {\"apple\": 0.5, \"banana\": 0.3, \"orange\": 0.8}, write code to:\n",
    "# •\tCalculate total cost using dictionary comprehension and sum()\n",
    "# •\tApply 10% discount if total > 2.0\n",
    "# •\tCreate final bill amount\n",
    "\n",
    "shopping_cart = {\"apple\": 3, \"banana\": 2, \"orange\": 1}\n",
    "prices = {\"apple\": 0.5, \"banana\": 0.3, \"orange\": 0.8}\n",
    "item_cost={item:quantity*prices[item] for item, quantity in shopping_cart.items()}\n",
    "total_cost=sum(item_cost.values())\n",
    "final_bill=total_cost*0.1 if total_cost>2 else total_cost\n",
    "print(f\"items and their corresponding costs: {item_cost}\")\n",
    "print(f\"Final bill amount is: {final_bill}\")\n"
   ]
  },
  {
   "cell_type": "code",
   "execution_count": 41,
   "id": "a7ff2679",
   "metadata": {},
   "outputs": [
    {
     "name": "stdout",
     "output_type": "stream",
     "text": [
      " Alice, 25, Engineer \n",
      "{'Name': 'Alice', 'Age': 25, 'Profession': 'Engineer'}\n"
     ]
    }
   ],
   "source": [
    "# 40.\tYou have user_input = \" Alice, 25, Engineer \". Write code to:\n",
    "# •\tClean and split the input to get name, age, and profession\n",
    "# •\tCreate profile dictionary with appropriate keys\n",
    "# •\tConvert age to integer and add validation (age must be between 0 and 120)\n",
    "\n",
    "user_input = \" Alice, 25, Engineer \"\n",
    "name,age,profession=user_input.strip().replace(',','').split()\n",
    "try:\n",
    "    age=int(age)\n",
    "    if not (0<=age<=120):\n",
    "        raise ValueError(\"Invalid age\")\n",
    "except Exception as e:\n",
    "    print(\"The error occured is\",e)\n",
    "    age=None\n",
    "profile={\"Name\":name,\"Age\":age,\"Profession\":profession}\n",
    "\n",
    "print(user_input)\n",
    "print(profile)\n"
   ]
  },
  {
   "cell_type": "markdown",
   "id": "1012fa2e",
   "metadata": {},
   "source": [
    "# PATTERNS"
   ]
  },
  {
   "cell_type": "code",
   "execution_count": 42,
   "id": "3c3ee6f3",
   "metadata": {},
   "outputs": [
    {
     "name": "stdout",
     "output_type": "stream",
     "text": [
      "**********\n",
      "**********\n",
      "**********\n",
      "**********\n",
      "**********\n"
     ]
    }
   ],
   "source": [
    "rows = 5\n",
    "cols = 10\n",
    "\n",
    "for i in range(rows):\n",
    "    print(\"*\" * cols)"
   ]
  },
  {
   "cell_type": "code",
   "execution_count": 43,
   "id": "24f7a9f5",
   "metadata": {},
   "outputs": [
    {
     "ename": "KeyboardInterrupt",
     "evalue": "Interrupted by user",
     "output_type": "error",
     "traceback": [
      "\u001b[1;31m---------------------------------------------------------------------------\u001b[0m",
      "\u001b[1;31mKeyboardInterrupt\u001b[0m                         Traceback (most recent call last)",
      "Cell \u001b[1;32mIn[43], line 2\u001b[0m\n\u001b[0;32m      1\u001b[0m \u001b[38;5;66;03m# rectangle\u001b[39;00m\n\u001b[1;32m----> 2\u001b[0m rows\u001b[38;5;241m=\u001b[39m\u001b[38;5;28mint\u001b[39m(\u001b[38;5;28minput\u001b[39m(\u001b[38;5;124m\"\u001b[39m\u001b[38;5;124menter rows: \u001b[39m\u001b[38;5;124m\"\u001b[39m))\n\u001b[0;32m      3\u001b[0m columns\u001b[38;5;241m=\u001b[39m\u001b[38;5;28mint\u001b[39m(\u001b[38;5;28minput\u001b[39m(\u001b[38;5;124m\"\u001b[39m\u001b[38;5;124menter columns: \u001b[39m\u001b[38;5;124m\"\u001b[39m))\n\u001b[0;32m      4\u001b[0m \u001b[38;5;28;01mfor\u001b[39;00m i \u001b[38;5;129;01min\u001b[39;00m \u001b[38;5;28mrange\u001b[39m(rows):\n",
      "File \u001b[1;32mc:\\Users\\hp\\anaconda3\\Lib\\site-packages\\ipykernel\\kernelbase.py:1262\u001b[0m, in \u001b[0;36mKernel.raw_input\u001b[1;34m(self, prompt)\u001b[0m\n\u001b[0;32m   1260\u001b[0m     msg \u001b[38;5;241m=\u001b[39m \u001b[38;5;124m\"\u001b[39m\u001b[38;5;124mraw_input was called, but this frontend does not support input requests.\u001b[39m\u001b[38;5;124m\"\u001b[39m\n\u001b[0;32m   1261\u001b[0m     \u001b[38;5;28;01mraise\u001b[39;00m StdinNotImplementedError(msg)\n\u001b[1;32m-> 1262\u001b[0m \u001b[38;5;28;01mreturn\u001b[39;00m \u001b[38;5;28mself\u001b[39m\u001b[38;5;241m.\u001b[39m_input_request(\n\u001b[0;32m   1263\u001b[0m     \u001b[38;5;28mstr\u001b[39m(prompt),\n\u001b[0;32m   1264\u001b[0m     \u001b[38;5;28mself\u001b[39m\u001b[38;5;241m.\u001b[39m_parent_ident[\u001b[38;5;124m\"\u001b[39m\u001b[38;5;124mshell\u001b[39m\u001b[38;5;124m\"\u001b[39m],\n\u001b[0;32m   1265\u001b[0m     \u001b[38;5;28mself\u001b[39m\u001b[38;5;241m.\u001b[39mget_parent(\u001b[38;5;124m\"\u001b[39m\u001b[38;5;124mshell\u001b[39m\u001b[38;5;124m\"\u001b[39m),\n\u001b[0;32m   1266\u001b[0m     password\u001b[38;5;241m=\u001b[39m\u001b[38;5;28;01mFalse\u001b[39;00m,\n\u001b[0;32m   1267\u001b[0m )\n",
      "File \u001b[1;32mc:\\Users\\hp\\anaconda3\\Lib\\site-packages\\ipykernel\\kernelbase.py:1305\u001b[0m, in \u001b[0;36mKernel._input_request\u001b[1;34m(self, prompt, ident, parent, password)\u001b[0m\n\u001b[0;32m   1302\u001b[0m \u001b[38;5;28;01mexcept\u001b[39;00m \u001b[38;5;167;01mKeyboardInterrupt\u001b[39;00m:\n\u001b[0;32m   1303\u001b[0m     \u001b[38;5;66;03m# re-raise KeyboardInterrupt, to truncate traceback\u001b[39;00m\n\u001b[0;32m   1304\u001b[0m     msg \u001b[38;5;241m=\u001b[39m \u001b[38;5;124m\"\u001b[39m\u001b[38;5;124mInterrupted by user\u001b[39m\u001b[38;5;124m\"\u001b[39m\n\u001b[1;32m-> 1305\u001b[0m     \u001b[38;5;28;01mraise\u001b[39;00m \u001b[38;5;167;01mKeyboardInterrupt\u001b[39;00m(msg) \u001b[38;5;28;01mfrom\u001b[39;00m \u001b[38;5;28;01mNone\u001b[39;00m\n\u001b[0;32m   1306\u001b[0m \u001b[38;5;28;01mexcept\u001b[39;00m \u001b[38;5;167;01mException\u001b[39;00m:\n\u001b[0;32m   1307\u001b[0m     \u001b[38;5;28mself\u001b[39m\u001b[38;5;241m.\u001b[39mlog\u001b[38;5;241m.\u001b[39mwarning(\u001b[38;5;124m\"\u001b[39m\u001b[38;5;124mInvalid Message:\u001b[39m\u001b[38;5;124m\"\u001b[39m, exc_info\u001b[38;5;241m=\u001b[39m\u001b[38;5;28;01mTrue\u001b[39;00m)\n",
      "\u001b[1;31mKeyboardInterrupt\u001b[0m: Interrupted by user"
     ]
    }
   ],
   "source": [
    "# rectangle\n",
    "rows=int(input(\"enter rows: \"))\n",
    "columns=int(input(\"enter columns: \"))\n",
    "for i in range(rows):\n",
    "    for j in range(columns):\n",
    "        print(\"*\", end=\" \")\n",
    "    print()"
   ]
  },
  {
   "cell_type": "code",
   "execution_count": null,
   "id": "0bd2e36c",
   "metadata": {},
   "outputs": [
    {
     "name": "stdout",
     "output_type": "stream",
     "text": [
      "* * * \n",
      "*   * \n",
      "* * * \n"
     ]
    }
   ],
   "source": [
    "# hollow rectangle\n",
    "rows=int(input(\"enter rows: \"))\n",
    "columns=int(input(\"enter columns: \"))\n",
    "\n",
    "for i in range(rows):\n",
    "    for j in range(columns):\n",
    "        if i == 0 or i == rows - 1 or j == 0 or j == columns - 1:\n",
    "            print(\"*\", end=\" \")  # Print '*' for borders\n",
    "        else:\n",
    "            print(\" \", end=\" \")  # Print space for the inside\n",
    "    print()  # Move to next row"
   ]
  },
  {
   "cell_type": "code",
   "execution_count": null,
   "id": "a1180d11",
   "metadata": {},
   "outputs": [
    {
     "name": "stdout",
     "output_type": "stream",
     "text": [
      "\n",
      "* \n",
      "* * \n",
      "* * * \n",
      "* * * * \n",
      "* * * * * \n",
      "* * * * * * \n",
      "* * * * * * * \n"
     ]
    }
   ],
   "source": [
    "rows=int(input(\"Enter number of rows: \"))\n",
    "for i in range(rows):\n",
    "    for j in range(i):\n",
    "        print(\"*\", end=\" \")\n",
    "    print()"
   ]
  },
  {
   "cell_type": "code",
   "execution_count": null,
   "id": "0d9b72b4",
   "metadata": {},
   "outputs": [
    {
     "name": "stdout",
     "output_type": "stream",
     "text": [
      "* \n",
      "* * \n",
      "* * * \n",
      "* * * * \n",
      "* * * * * \n"
     ]
    }
   ],
   "source": [
    "n=5\n",
    "for i in range(n):\n",
    "    for j in range(i+1):\n",
    "        print(\"*\",end=' ')\n",
    "    print()"
   ]
  },
  {
   "cell_type": "code",
   "execution_count": null,
   "id": "08773bf9",
   "metadata": {},
   "outputs": [
    {
     "name": "stdout",
     "output_type": "stream",
     "text": [
      "* * * * * \n",
      "* * * * \n",
      "* * * \n",
      "* * \n",
      "* \n"
     ]
    }
   ],
   "source": [
    "rows=int(input(\"Enter number of rows: \"))\n",
    "for i in range(rows):\n",
    "    for j in range(rows-i):\n",
    "        print(\"*\", end=\" \")\n",
    "    print()"
   ]
  },
  {
   "cell_type": "code",
   "execution_count": null,
   "id": "5d1a79aa",
   "metadata": {},
   "outputs": [
    {
     "name": "stdout",
     "output_type": "stream",
     "text": [
      "          * \n",
      "        * * \n",
      "      * * * \n",
      "    * * * * \n",
      "  * * * * * \n"
     ]
    }
   ],
   "source": [
    "n=5\n",
    "for i in range(n):\n",
    "    for j in range(i,n):\n",
    "        print(' ',end=\" \")\n",
    "    for j in range(i+1):\n",
    "        print(\"*\",end=' ')\n",
    "    print()"
   ]
  },
  {
   "cell_type": "code",
   "execution_count": null,
   "id": "3db2b204",
   "metadata": {},
   "outputs": [
    {
     "name": "stdout",
     "output_type": "stream",
     "text": [
      "--- \n",
      "-- \n",
      "- \n"
     ]
    }
   ],
   "source": [
    "rows=int(input(\"enter no.of rows: \"))\n",
    "for i in range(rows):\n",
    "    print(\"-\"*(rows-i),end=\" \")\n",
    "    print()"
   ]
  },
  {
   "cell_type": "code",
   "execution_count": null,
   "id": "4c75e6b2",
   "metadata": {},
   "outputs": [
    {
     "name": "stdout",
     "output_type": "stream",
     "text": [
      "----- * \n",
      "---- * * \n",
      "--- * * * \n",
      "-- * * * * \n",
      "- * * * * * \n"
     ]
    }
   ],
   "source": [
    "rows=int(input(\"enter no.of rows: \"))\n",
    "for i in range(rows):\n",
    "    print(\"-\"*(rows-i),end=\" \")\n",
    "    for j in range(0,i+1):\n",
    "         print(\"*\",end=\" \")\n",
    "    print()"
   ]
  },
  {
   "cell_type": "code",
   "execution_count": null,
   "id": "2f0160ea",
   "metadata": {},
   "outputs": [
    {
     "name": "stdout",
     "output_type": "stream",
     "text": [
      "      * \n",
      "     * * \n",
      "    *   * \n",
      "   * * * * \n",
      "  *       * \n"
     ]
    }
   ],
   "source": [
    "for i in range(5):\n",
    "    print(\" \"*(rows-i), end=\" \")\n",
    "    if i==3:\n",
    "        for j in range(i+1):\n",
    "            print(\"*\", end=\" \")\n",
    "        print()\n",
    "    else:\n",
    "        for j in range(i+1):\n",
    "            if j==0 or j==i:\n",
    "                print(\"*\",end=\" \")\n",
    "            else:\n",
    "                print(\" \",end=\" \")\n",
    "        print()"
   ]
  },
  {
   "cell_type": "code",
   "execution_count": null,
   "id": "2476a88b",
   "metadata": {},
   "outputs": [
    {
     "name": "stdout",
     "output_type": "stream",
     "text": [
      "     0 \n",
      "    1 1 \n",
      "   2 2 2 \n",
      "  3 3 3 3 \n"
     ]
    }
   ],
   "source": [
    "rows=int(input(\"enter no.of rows: \"))\n",
    "for i in range(rows):\n",
    "    print(\" \"*(rows-i),end=\" \")\n",
    "    for j in range(0,i+1):\n",
    "        print(i,end=\" \")\n",
    "    print()"
   ]
  },
  {
   "cell_type": "code",
   "execution_count": null,
   "id": "6c77dab8",
   "metadata": {},
   "outputs": [
    {
     "name": "stdout",
     "output_type": "stream",
     "text": [
      "     1 \n",
      "    2 3 \n",
      "   4 5 6 \n",
      "  7 8 9 10 \n",
      " 11 12 13 14 15 \n"
     ]
    }
   ],
   "source": [
    "rows=5\n",
    "count=0\n",
    "for i in range(1,rows+1):\n",
    "    print(\" \"*(rows-i),end=\" \")\n",
    "    for j in range(i):\n",
    "             count+=1\n",
    "             print(count,end=\" \")\n",
    "    print()"
   ]
  },
  {
   "cell_type": "code",
   "execution_count": null,
   "id": "cb4477b9",
   "metadata": {},
   "outputs": [
    {
     "name": "stdout",
     "output_type": "stream",
     "text": [
      "----- 0 \n",
      "---- 1 \n",
      "--- 2 \n",
      "-- 3 \n",
      "- 4 \n"
     ]
    }
   ],
   "source": [
    "rows=int(input(\"enter no.of rows: \"))\n",
    "for i in range(rows):\n",
    "    print(\"-\"*(rows-i),end=\" \")\n",
    "    for j in range(i,i+1):\n",
    "         print(j,end=\" \")\n",
    "    print()"
   ]
  },
  {
   "cell_type": "code",
   "execution_count": 10,
   "id": "82ce27e0",
   "metadata": {},
   "outputs": [
    {
     "name": "stdout",
     "output_type": "stream",
     "text": [
      "      * \n",
      "     * * \n",
      "    * * * \n",
      "   * * * * \n",
      "  * * * * * \n",
      "   * * * * \n",
      "    * * * \n",
      "     * * \n",
      "      * \n"
     ]
    }
   ],
   "source": [
    "rows=int(input(\"enter no.of rows: \"))\n",
    "for i in range(rows):\n",
    "    print(\" \"*(rows-i),end=\" \")\n",
    "    for j in range(0,i+1):\n",
    "         print(\"*\",end=\" \")\n",
    "    print()\n",
    "for i in range(rows-1):\n",
    "     print(\" \"* (i+2),end=\" \")\n",
    "     for j in range((rows-1)-i):\n",
    "          print(\"*\",end=\" \")\n",
    "     print()\n"
   ]
  },
  {
   "cell_type": "code",
   "execution_count": null,
   "id": "7228e27e",
   "metadata": {},
   "outputs": [],
   "source": [
    "import numpy as np\n"
   ]
  },
  {
   "cell_type": "code",
   "execution_count": null,
   "id": "7ea3cfe9",
   "metadata": {},
   "outputs": [
    {
     "name": "stdout",
     "output_type": "stream",
     "text": [
      "2\n"
     ]
    }
   ],
   "source": [
    "x = True+True+False*True\n",
    "print(x)"
   ]
  },
  {
   "cell_type": "code",
   "execution_count": null,
   "id": "88a9cc9e",
   "metadata": {},
   "outputs": [
    {
     "data": {
      "text/plain": [
       "True"
      ]
     },
     "execution_count": 83,
     "metadata": {},
     "output_type": "execute_result"
    }
   ],
   "source": [
    "x=y=257\n",
    "x is y"
   ]
  },
  {
   "cell_type": "code",
   "execution_count": null,
   "id": "07d033c5",
   "metadata": {},
   "outputs": [
    {
     "data": {
      "text/plain": [
       "False"
      ]
     },
     "execution_count": 82,
     "metadata": {},
     "output_type": "execute_result"
    }
   ],
   "source": [
    "x=257\n",
    "y=257\n",
    "x is y"
   ]
  },
  {
   "cell_type": "code",
   "execution_count": null,
   "id": "05c48bd2",
   "metadata": {},
   "outputs": [
    {
     "data": {
      "text/plain": [
       "True"
      ]
     },
     "execution_count": 84,
     "metadata": {},
     "output_type": "execute_result"
    }
   ],
   "source": [
    "x=256\n",
    "y=256\n",
    "x is y"
   ]
  },
  {
   "cell_type": "code",
   "execution_count": null,
   "id": "6c12c79a",
   "metadata": {},
   "outputs": [
    {
     "ename": "TypeError",
     "evalue": "unhashable type: 'list'",
     "output_type": "error",
     "traceback": [
      "\u001b[1;31m---------------------------------------------------------------------------\u001b[0m",
      "\u001b[1;31mTypeError\u001b[0m                                 Traceback (most recent call last)",
      "Cell \u001b[1;32mIn[85], line 3\u001b[0m\n\u001b[0;32m      1\u001b[0m d \u001b[38;5;241m=\u001b[39m {}\n\u001b[0;32m      2\u001b[0m d[(\u001b[38;5;241m1\u001b[39m, \u001b[38;5;241m2\u001b[39m)] \u001b[38;5;241m=\u001b[39m \u001b[38;5;124m\"\u001b[39m\u001b[38;5;124mtuple key\u001b[39m\u001b[38;5;124m\"\u001b[39m\n\u001b[1;32m----> 3\u001b[0m d[[\u001b[38;5;241m1\u001b[39m, \u001b[38;5;241m2\u001b[39m]] \u001b[38;5;241m=\u001b[39m \u001b[38;5;124m\"\u001b[39m\u001b[38;5;124mlist key\u001b[39m\u001b[38;5;124m\"\u001b[39m\n",
      "\u001b[1;31mTypeError\u001b[0m: unhashable type: 'list'"
     ]
    }
   ],
   "source": [
    "d = {}\n",
    "d[(1, 2)] = \"tuple key\"\n",
    "d[[1, 2]] = \"list key\"  # What happens?"
   ]
  },
  {
   "cell_type": "code",
   "execution_count": null,
   "id": "bac1b2fd",
   "metadata": {},
   "outputs": [
    {
     "data": {
      "text/plain": [
       "{(1, 2): [1, 2]}"
      ]
     },
     "execution_count": 87,
     "metadata": {},
     "output_type": "execute_result"
    }
   ],
   "source": [
    "dct={(1,2):[1,2]}\n",
    "dct"
   ]
  },
  {
   "cell_type": "code",
   "execution_count": null,
   "id": "1904e53a",
   "metadata": {},
   "outputs": [
    {
     "data": {
      "text/plain": [
       "<generator object <genexpr> at 0x000002BA5C7F3400>"
      ]
     },
     "execution_count": 89,
     "metadata": {},
     "output_type": "execute_result"
    }
   ],
   "source": [
    "x = 10\n",
    "gen = (x for x in range(3))\n",
    "list(gen)  # What's returned?\n",
    "print(x)   # What's x now?"
   ]
  },
  {
   "cell_type": "code",
   "execution_count": null,
   "id": "c6b360d4",
   "metadata": {},
   "outputs": [
    {
     "name": "stdout",
     "output_type": "stream",
     "text": [
      "outer\n"
     ]
    }
   ],
   "source": [
    "x = \"outer\"\n",
    "result = [x for i in range(2) for x in [\"inner\"]]\n",
    "print(x) "
   ]
  },
  {
   "cell_type": "code",
   "execution_count": null,
   "id": "135fecf0",
   "metadata": {},
   "outputs": [
    {
     "name": "stdout",
     "output_type": "stream",
     "text": [
      "1 1\n",
      "{True: 'float'} {1: 'float'}\n"
     ]
    }
   ],
   "source": [
    "d1 = {True: \"bool\", 1: \"int\", 1.0: \"float\"}\n",
    "d2 = {1: \"int\", True: \"bool\", 1.0: \"float\"}\n",
    "print(len(d1), len(d2))\n",
    "print(d1, d2)\n",
    "# What are the lengths and contents?"
   ]
  },
  {
   "cell_type": "code",
   "execution_count": 2,
   "id": "785f03aa",
   "metadata": {},
   "outputs": [
    {
     "name": "stdout",
     "output_type": "stream",
     "text": [
      "<class 'float'>\n",
      "5.0\n"
     ]
    }
   ],
   "source": [
    "a=float(5)\n",
    "print(type(a))\n",
    "print(a)"
   ]
  },
  {
   "cell_type": "code",
   "execution_count": 3,
   "id": "ebd3bff7",
   "metadata": {},
   "outputs": [
    {
     "name": "stdout",
     "output_type": "stream",
     "text": [
      "<class 'complex'>\n"
     ]
    }
   ],
   "source": [
    "a=2.9+2j\n",
    "print(type(a))"
   ]
  },
  {
   "cell_type": "code",
   "execution_count": 4,
   "id": "15b1f765",
   "metadata": {},
   "outputs": [
    {
     "name": "stdout",
     "output_type": "stream",
     "text": [
      "<class 'list'>\n"
     ]
    }
   ],
   "source": [
    "li=[1,2,3,4]\n",
    "print(type(li))"
   ]
  },
  {
   "cell_type": "code",
   "execution_count": 5,
   "id": "4b70528c",
   "metadata": {},
   "outputs": [],
   "source": [
    "li=eval(input(\"enter a list\"))"
   ]
  },
  {
   "cell_type": "code",
   "execution_count": 8,
   "id": "3b4e997c",
   "metadata": {},
   "outputs": [
    {
     "name": "stdout",
     "output_type": "stream",
     "text": [
      "sneha\n",
      " 20 \tmalappuram\n"
     ]
    }
   ],
   "source": [
    "print(\"sneha\\n 20 \\tmalappuram\")"
   ]
  },
  {
   "cell_type": "code",
   "execution_count": 11,
   "id": "d9f08dcf",
   "metadata": {},
   "outputs": [
    {
     "data": {
      "text/plain": [
       "'jihgfedcba'"
      ]
     },
     "execution_count": 11,
     "metadata": {},
     "output_type": "execute_result"
    }
   ],
   "source": [
    "a=\"abcdefghij\"\n",
    "#  0123456789\n",
    "a[::-1]"
   ]
  },
  {
   "cell_type": "code",
   "execution_count": 3,
   "id": "6490476f",
   "metadata": {},
   "outputs": [
    {
     "name": "stdout",
     "output_type": "stream",
     "text": [
      "15\n"
     ]
    }
   ],
   "source": [
    "def sum_natural(n):\n",
    "    if n == 0:\n",
    "        return 0\n",
    "    return n + sum_natural(n - 1)\n",
    "\n",
    "print(sum_natural(5))  # Output: 15\n"
   ]
  },
  {
   "cell_type": "code",
   "execution_count": 2,
   "id": "a1996663",
   "metadata": {},
   "outputs": [
    {
     "name": "stdout",
     "output_type": "stream",
     "text": [
      "10\n"
     ]
    }
   ],
   "source": [
    "count=0\n",
    "n=5\n",
    "for i in range(n):\n",
    "    count=count+i\n",
    "print(count)"
   ]
  },
  {
   "cell_type": "code",
   "execution_count": 31,
   "id": "438b011c",
   "metadata": {},
   "outputs": [
    {
     "name": "stdout",
     "output_type": "stream",
     "text": [
      "120\n"
     ]
    }
   ],
   "source": [
    "def factorial(n):\n",
    "    if n == 0:            # Base case\n",
    "        return 1\n",
    "    else:\n",
    "        return n * factorial(n - 1)  # Recursive call\n",
    "\n",
    "print(factorial(5))  # Output: 120\n"
   ]
  },
  {
   "cell_type": "code",
   "execution_count": 5,
   "id": "cb780994",
   "metadata": {},
   "outputs": [
    {
     "name": "stdout",
     "output_type": "stream",
     "text": [
      "10\n",
      "9\n",
      "8\n",
      "7\n",
      "6\n",
      "5\n",
      "4\n",
      "3\n",
      "2\n",
      "1\n",
      "Blast off!\n"
     ]
    }
   ],
   "source": [
    "def countdown(n):\n",
    "    if n == 0:\n",
    "        print(\"Blast off!\")  # base case\n",
    "    else:\n",
    "        print(n)\n",
    "        countdown(n - 1)\n",
    "a=countdown(10)\n"
   ]
  },
  {
   "cell_type": "code",
   "execution_count": 6,
   "id": "9b2c8e34",
   "metadata": {},
   "outputs": [
    {
     "name": "stdout",
     "output_type": "stream",
     "text": [
      "15\n"
     ]
    }
   ],
   "source": [
    "sum=0\n",
    "for i in range(6):\n",
    "    sum=sum+i\n",
    "print(sum)"
   ]
  },
  {
   "cell_type": "code",
   "execution_count": 9,
   "id": "4e917d4b",
   "metadata": {},
   "outputs": [
    {
     "data": {
      "text/plain": [
       "120"
      ]
     },
     "execution_count": 9,
     "metadata": {},
     "output_type": "execute_result"
    }
   ],
   "source": [
    "def factorial_iterative(n):\n",
    "    result = 1\n",
    "    for i in range(1, n + 1):\n",
    "        result *= i\n",
    "    return result\n",
    "a=factorial_iterative(5)\n",
    "a\n"
   ]
  },
  {
   "cell_type": "code",
   "execution_count": 21,
   "id": "cbf55ee0",
   "metadata": {},
   "outputs": [
    {
     "name": "stdout",
     "output_type": "stream",
     "text": [
      "8\n"
     ]
    }
   ],
   "source": [
    "n1=0\n",
    "n2=1\n",
    "n=7\n",
    "sum=n1+n2\n",
    "# print(n1)\n",
    "# print(n2)\n",
    "if n==1:\n",
    "    print(0)\n",
    "elif n==2:\n",
    "    print(1)\n",
    "else:\n",
    "    for i in range (3,n+1):\n",
    "        sum=n1+n2\n",
    "        n1=n2\n",
    "        n2=sum\n",
    "    print(sum)\n",
    "\n"
   ]
  },
  {
   "cell_type": "code",
   "execution_count": 23,
   "id": "5373d910",
   "metadata": {},
   "outputs": [
    {
     "data": {
      "text/plain": [
       "8"
      ]
     },
     "execution_count": 23,
     "metadata": {},
     "output_type": "execute_result"
    }
   ],
   "source": [
    "def fibonacci(n):\n",
    "    n1=0\n",
    "    n2=1\n",
    "    n=7\n",
    "    sum=n1+n2\n",
    "    # print(n1)\n",
    "    # print(n2)\n",
    "    if n==1:\n",
    "        print(0)\n",
    "    elif n==2:\n",
    "        print(1)\n",
    "    else:\n",
    "        for i in range (3,n+1):\n",
    "            sum=n1+n2\n",
    "            n1=n2\n",
    "            n2=sum\n",
    "    return sum\n",
    "\n",
    "fibonacci(7)"
   ]
  },
  {
   "cell_type": "code",
   "execution_count": 33,
   "id": "bfa861f0",
   "metadata": {},
   "outputs": [
    {
     "data": {
      "text/plain": [
       "15"
      ]
     },
     "execution_count": 33,
     "metadata": {},
     "output_type": "execute_result"
    }
   ],
   "source": [
    "\n",
    "def sum_n(n):\n",
    "    if n==0:\n",
    "        return 0\n",
    "    else:\n",
    "        return n+sum_n(n-1)\n",
    "sum_n(5)"
   ]
  },
  {
   "cell_type": "code",
   "execution_count": 58,
   "id": "292eaf8b",
   "metadata": {},
   "outputs": [
    {
     "data": {
      "text/plain": [
       "4"
      ]
     },
     "execution_count": 58,
     "metadata": {},
     "output_type": "execute_result"
    }
   ],
   "source": [
    "def count_digits(n):\n",
    "    if n == 0:\n",
    "        return 0\n",
    "    return ((1 + count_digits(n // 10)))\n",
    "\n",
    "count_digits(3456)\n"
   ]
  },
  {
   "cell_type": "code",
   "execution_count": 43,
   "id": "c7d315ac",
   "metadata": {},
   "outputs": [
    {
     "data": {
      "text/plain": [
       "1"
      ]
     },
     "execution_count": 43,
     "metadata": {},
     "output_type": "execute_result"
    }
   ],
   "source": [
    "def sum_digits(n):\n",
    "    if n==0:\n",
    "        return 0\n",
    "    else:\n",
    "        return (n%10)+(sum_digits(n//10))\n",
    "sum_digits(1)"
   ]
  },
  {
   "cell_type": "code",
   "execution_count": 62,
   "id": "c7019c05",
   "metadata": {},
   "outputs": [
    {
     "data": {
      "text/plain": [
       "3"
      ]
     },
     "execution_count": 62,
     "metadata": {},
     "output_type": "execute_result"
    }
   ],
   "source": [
    "def count_digits(n):\n",
    "    if n == 0:\n",
    "        return 1\n",
    "    return 1 + count_digits(n // 10) if n // 10 != 0 else 1\n",
    "\n",
    "count_digits(111)"
   ]
  },
  {
   "cell_type": "code",
   "execution_count": 65,
   "id": "4680b5ca",
   "metadata": {},
   "outputs": [
    {
     "data": {
      "text/plain": [
       "3"
      ]
     },
     "execution_count": 65,
     "metadata": {},
     "output_type": "execute_result"
    }
   ],
   "source": [
    "def count_digits(n):\n",
    "    if n == 0:\n",
    "        return 1\n",
    "    n = abs(n)\n",
    "    if n < 10:\n",
    "        return 1\n",
    "    return 1 + count_digits(n // 10)\n",
    "\n",
    "count_digits(111)"
   ]
  },
  {
   "cell_type": "code",
   "execution_count": 12,
   "id": "bb76d361",
   "metadata": {},
   "outputs": [
    {
     "data": {
      "text/plain": [
       "False"
      ]
     },
     "execution_count": 12,
     "metadata": {},
     "output_type": "execute_result"
    }
   ],
   "source": [
    "a={1,2,3,4}\n",
    "b={5,6,1,2,3,4}\n",
    "a.isdisjoint(b)"
   ]
  },
  {
   "cell_type": "code",
   "execution_count": 9,
   "id": "9b08bb63",
   "metadata": {},
   "outputs": [
    {
     "data": {
      "text/plain": [
       "True"
      ]
     },
     "execution_count": 9,
     "metadata": {},
     "output_type": "execute_result"
    }
   ],
   "source": [
    "a.issubset(b)"
   ]
  },
  {
   "cell_type": "code",
   "execution_count": 11,
   "id": "8bf5ef7e",
   "metadata": {},
   "outputs": [
    {
     "data": {
      "text/plain": [
       "True"
      ]
     },
     "execution_count": 11,
     "metadata": {},
     "output_type": "execute_result"
    }
   ],
   "source": [
    "b.issuperset(a)"
   ]
  }
 ],
 "metadata": {
  "kernelspec": {
   "display_name": "base",
   "language": "python",
   "name": "python3"
  },
  "language_info": {
   "codemirror_mode": {
    "name": "ipython",
    "version": 3
   },
   "file_extension": ".py",
   "mimetype": "text/x-python",
   "name": "python",
   "nbconvert_exporter": "python",
   "pygments_lexer": "ipython3",
   "version": "3.12.4"
  }
 },
 "nbformat": 4,
 "nbformat_minor": 5
}
