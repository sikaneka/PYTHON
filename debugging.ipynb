{
 "cells": [
  {
   "cell_type": "markdown",
   "id": "23b952fb",
   "metadata": {},
   "source": [
    "* Debugging is the process of identifying, analyzing, and fixing bugs (errors) in code.\n",
    "* It goes beyond fixing syntax errors—focuses on logic and program flow\n",
    "\n",
    "Types of bugs:\n",
    "\n",
    "1. Syntax errors\n",
    "2. Logical errors\n",
    "3. Run time errors"
   ]
  },
  {
   "cell_type": "code",
   "execution_count": 1,
   "id": "dee5b42b",
   "metadata": {},
   "outputs": [
    {
     "name": "stdout",
     "output_type": "stream",
     "text": [
      "a=10, b=2\n",
      "5.0\n"
     ]
    }
   ],
   "source": [
    "def divide(a, b):\n",
    "    print(f\"a={a}, b={b}\")\n",
    "    return a / b\n",
    "\n",
    "print(divide(10, 2))\n"
   ]
  },
  {
   "cell_type": "code",
   "execution_count": 2,
   "id": "7bf3c2fd",
   "metadata": {},
   "outputs": [
    {
     "name": "stdout",
     "output_type": "stream",
     "text": [
      "> \u001b[1;32mc:\\users\\hp\\appdata\\local\\temp\\ipykernel_27748\\676512710.py\u001b[0m(5)\u001b[0;36mbuggy_add\u001b[1;34m()\u001b[0m\n",
      "\n",
      "TypeError: unsupported operand type(s) for +: 'int' and 'str'\n",
      "> \u001b[1;32mc:\\users\\hp\\appdata\\local\\temp\\ipykernel_27748\\676512710.py\u001b[0m(5)\u001b[0;36mbuggy_add\u001b[1;34m()\u001b[0m\n",
      "\n",
      "--Return--\n",
      "None\n",
      "> \u001b[1;32mc:\\users\\hp\\appdata\\local\\temp\\ipykernel_27748\\676512710.py\u001b[0m(5)\u001b[0;36mbuggy_add\u001b[1;34m()\u001b[0m\n",
      "\n",
      "\u001b[0;32m      1 \u001b[0m\u001b[1;32mimport\u001b[0m \u001b[0mpdb\u001b[0m\u001b[1;33m\u001b[0m\u001b[1;33m\u001b[0m\u001b[0m\n",
      "\u001b[0;32m      2 \u001b[0m\u001b[1;33m\u001b[0m\u001b[0m\n",
      "\u001b[0;32m      3 \u001b[0m\u001b[1;32mdef\u001b[0m \u001b[0mbuggy_add\u001b[0m\u001b[1;33m(\u001b[0m\u001b[0mx\u001b[0m\u001b[1;33m,\u001b[0m \u001b[0my\u001b[0m\u001b[1;33m)\u001b[0m\u001b[1;33m:\u001b[0m\u001b[1;33m\u001b[0m\u001b[1;33m\u001b[0m\u001b[0m\n",
      "\u001b[0;32m      4 \u001b[0m    \u001b[0mpdb\u001b[0m\u001b[1;33m.\u001b[0m\u001b[0mset_trace\u001b[0m\u001b[1;33m(\u001b[0m\u001b[1;33m)\u001b[0m\u001b[1;33m\u001b[0m\u001b[1;33m\u001b[0m\u001b[0m\n",
      "\u001b[1;32m----> 5 \u001b[1;33m    \u001b[1;32mreturn\u001b[0m \u001b[0mx\u001b[0m \u001b[1;33m+\u001b[0m \u001b[0my\u001b[0m\u001b[1;33m\u001b[0m\u001b[1;33m\u001b[0m\u001b[0m\n",
      "\u001b[0m\u001b[0;32m      6 \u001b[0m\u001b[1;33m\u001b[0m\u001b[0m\n",
      "\u001b[0;32m      7 \u001b[0m\u001b[0mbuggy_add\u001b[0m\u001b[1;33m(\u001b[0m\u001b[1;36m10\u001b[0m\u001b[1;33m,\u001b[0m \u001b[1;34m'5'\u001b[0m\u001b[1;33m)\u001b[0m  \u001b[1;31m# This causes a TypeError\u001b[0m\u001b[1;33m\u001b[0m\u001b[1;33m\u001b[0m\u001b[0m\n",
      "\n",
      "*** SyntaxError: invalid syntax\n"
     ]
    },
    {
     "ename": "TypeError",
     "evalue": "unsupported operand type(s) for +: 'int' and 'str'",
     "output_type": "error",
     "traceback": [
      "\u001b[1;31m---------------------------------------------------------------------------\u001b[0m",
      "\u001b[1;31mTypeError\u001b[0m                                 Traceback (most recent call last)",
      "Cell \u001b[1;32mIn[2], line 7\u001b[0m\n\u001b[0;32m      4\u001b[0m     pdb\u001b[38;5;241m.\u001b[39mset_trace()\n\u001b[0;32m      5\u001b[0m     \u001b[38;5;28;01mreturn\u001b[39;00m x \u001b[38;5;241m+\u001b[39m y\n\u001b[1;32m----> 7\u001b[0m buggy_add(\u001b[38;5;241m10\u001b[39m, \u001b[38;5;124m'\u001b[39m\u001b[38;5;124m5\u001b[39m\u001b[38;5;124m'\u001b[39m)\n",
      "Cell \u001b[1;32mIn[2], line 5\u001b[0m, in \u001b[0;36mbuggy_add\u001b[1;34m(x, y)\u001b[0m\n\u001b[0;32m      3\u001b[0m \u001b[38;5;28;01mdef\u001b[39;00m \u001b[38;5;21mbuggy_add\u001b[39m(x, y):\n\u001b[0;32m      4\u001b[0m     pdb\u001b[38;5;241m.\u001b[39mset_trace()\n\u001b[1;32m----> 5\u001b[0m     \u001b[38;5;28;01mreturn\u001b[39;00m x \u001b[38;5;241m+\u001b[39m y\n",
      "\u001b[1;31mTypeError\u001b[0m: unsupported operand type(s) for +: 'int' and 'str'"
     ]
    }
   ],
   "source": [
    "import pdb\n",
    "\n",
    "def buggy_add(x, y):\n",
    "    pdb.set_trace()\n",
    "    return x + y\n",
    "\n",
    "buggy_add(10, '5')  # This causes a TypeError\n"
   ]
  },
  {
   "cell_type": "markdown",
   "id": "fa986c02",
   "metadata": {},
   "source": []
  }
 ],
 "metadata": {
  "kernelspec": {
   "display_name": "base",
   "language": "python",
   "name": "python3"
  },
  "language_info": {
   "codemirror_mode": {
    "name": "ipython",
    "version": 3
   },
   "file_extension": ".py",
   "mimetype": "text/x-python",
   "name": "python",
   "nbconvert_exporter": "python",
   "pygments_lexer": "ipython3",
   "version": "3.12.4"
  }
 },
 "nbformat": 4,
 "nbformat_minor": 5
}
