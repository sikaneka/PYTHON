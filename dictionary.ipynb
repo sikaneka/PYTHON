{
 "cells": [
  {
   "cell_type": "code",
   "execution_count": 11,
   "id": "a9b4404b",
   "metadata": {},
   "outputs": [
    {
     "name": "stdout",
     "output_type": "stream",
     "text": [
      "B.tech\n",
      "sneha\n"
     ]
    }
   ],
   "source": [
    "d1={\n",
    "    'name':'sneha',\n",
    "    'age':18,\n",
    "    'ed':'B.tech'\n",
    "}\n",
    "print(d1['ed'])\n",
    "print(d1.get('name'))\n"
   ]
  },
  {
   "cell_type": "code",
   "execution_count": 10,
   "id": "00be43b1",
   "metadata": {},
   "outputs": [
    {
     "name": "stdout",
     "output_type": "stream",
     "text": [
      "{'name': 'sneha', 'age': 18, 'ed': 'B.tech', 'ff': 'Mandhi'}\n"
     ]
    }
   ],
   "source": [
    "d1={\n",
    "    'name':'sneha',\n",
    "    'age':18,\n",
    "    'ed':'B.tech',\n",
    "    'ff':'Biriyani',\n",
    "    'ff':'Mandhi'\n",
    "}\n",
    "print(d1)"
   ]
  },
  {
   "cell_type": "code",
   "execution_count": 12,
   "id": "ae236837",
   "metadata": {},
   "outputs": [
    {
     "name": "stdout",
     "output_type": "stream",
     "text": [
      "{'name': 'nila', 'age': 18}\n"
     ]
    }
   ],
   "source": [
    "d2=dict(name='nila',age=18)\n",
    "print(d2)"
   ]
  },
  {
   "cell_type": "code",
   "execution_count": 16,
   "id": "d9b03fe5",
   "metadata": {},
   "outputs": [
    {
     "name": "stdout",
     "output_type": "stream",
     "text": [
      "dict_keys(['name', 'age', 'ed'])\n",
      "dict_keys(['name', 'age', 'ed', 'fc'])\n"
     ]
    }
   ],
   "source": [
    "s=d1.keys()\n",
    "print(s)\n",
    "d1['fc']='black'\n",
    "print(s)"
   ]
  },
  {
   "cell_type": "code",
   "execution_count": 14,
   "id": "7cd1d376",
   "metadata": {},
   "outputs": [
    {
     "data": {
      "text/plain": [
       "dict_values(['sneha', 18, 'B.tech'])"
      ]
     },
     "execution_count": 14,
     "metadata": {},
     "output_type": "execute_result"
    }
   ],
   "source": [
    "d1.values()"
   ]
  },
  {
   "cell_type": "code",
   "execution_count": 15,
   "id": "a16574a0",
   "metadata": {},
   "outputs": [
    {
     "data": {
      "text/plain": [
       "dict_items([('name', 'sneha'), ('age', 18), ('ed', 'B.tech')])"
      ]
     },
     "execution_count": 15,
     "metadata": {},
     "output_type": "execute_result"
    }
   ],
   "source": [
    "d1.items()"
   ]
  },
  {
   "cell_type": "code",
   "execution_count": 19,
   "id": "4ccbf693",
   "metadata": {},
   "outputs": [],
   "source": [
    "d2.update({'l2':2})"
   ]
  },
  {
   "cell_type": "code",
   "execution_count": 34,
   "id": "66635ded",
   "metadata": {},
   "outputs": [],
   "source": [
    "d2.update((['9',3],['1',4]))"
   ]
  },
  {
   "cell_type": "code",
   "execution_count": 35,
   "id": "efadec97",
   "metadata": {},
   "outputs": [
    {
     "data": {
      "text/plain": [
       "{'name': 'nila', 'age': 18, 1: 4, '1': 4, '9': 3}"
      ]
     },
     "execution_count": 35,
     "metadata": {},
     "output_type": "execute_result"
    }
   ],
   "source": [
    "d2"
   ]
  },
  {
   "cell_type": "code",
   "execution_count": 21,
   "id": "ff036f91",
   "metadata": {},
   "outputs": [
    {
     "data": {
      "text/plain": [
       "2"
      ]
     },
     "execution_count": 21,
     "metadata": {},
     "output_type": "execute_result"
    }
   ],
   "source": [
    "d2.pop('l2')"
   ]
  },
  {
   "cell_type": "code",
   "execution_count": 22,
   "id": "a4beef28",
   "metadata": {},
   "outputs": [
    {
     "data": {
      "text/plain": [
       "{'name': 'nila', 'age': 18, 'l': '2'}"
      ]
     },
     "execution_count": 22,
     "metadata": {},
     "output_type": "execute_result"
    }
   ],
   "source": [
    "d2"
   ]
  },
  {
   "cell_type": "code",
   "execution_count": 23,
   "id": "f75b8954",
   "metadata": {},
   "outputs": [
    {
     "data": {
      "text/plain": [
       "('l', '2')"
      ]
     },
     "execution_count": 23,
     "metadata": {},
     "output_type": "execute_result"
    }
   ],
   "source": [
    "d2.popitem()"
   ]
  },
  {
   "cell_type": "code",
   "execution_count": 1,
   "id": "ba8c97f6",
   "metadata": {},
   "outputs": [
    {
     "ename": "NameError",
     "evalue": "name 'd2' is not defined",
     "output_type": "error",
     "traceback": [
      "\u001b[1;31m---------------------------------------------------------------------------\u001b[0m",
      "\u001b[1;31mNameError\u001b[0m                                 Traceback (most recent call last)",
      "Cell \u001b[1;32mIn[1], line 1\u001b[0m\n\u001b[1;32m----> 1\u001b[0m d2\n",
      "\u001b[1;31mNameError\u001b[0m: name 'd2' is not defined"
     ]
    }
   ],
   "source": [
    "d2"
   ]
  },
  {
   "cell_type": "code",
   "execution_count": 3,
   "id": "6c437741",
   "metadata": {},
   "outputs": [
    {
     "data": {
      "text/plain": [
       "('d', 4)"
      ]
     },
     "execution_count": 3,
     "metadata": {},
     "output_type": "execute_result"
    }
   ],
   "source": [
    "a={'a':1,'b':2,'c':3}\n",
    "a['b']=3\n",
    "a['d']=4\n",
    "a.popitem()"
   ]
  },
  {
   "cell_type": "code",
   "execution_count": 2,
   "id": "e083e5a1",
   "metadata": {},
   "outputs": [
    {
     "name": "stdout",
     "output_type": "stream",
     "text": [
      "2\n"
     ]
    }
   ],
   "source": [
    "a={\n",
    "    \"s1\":{'a':2,'b':3}\n",
    "}\n",
    "print(a['s1']['a'])"
   ]
  },
  {
   "cell_type": "code",
   "execution_count": 9,
   "id": "b26276af",
   "metadata": {},
   "outputs": [
    {
     "data": {
      "text/plain": [
       "{'s1': {'a': 2, 'b': 3}, 'a': None, 'c': 3}"
      ]
     },
     "execution_count": 9,
     "metadata": {},
     "output_type": "execute_result"
    }
   ],
   "source": [
    "a.setdefault('c',3)\n",
    "a"
   ]
  },
  {
   "cell_type": "code",
   "execution_count": 4,
   "id": "1cf70bf8",
   "metadata": {},
   "outputs": [
    {
     "data": {
      "text/plain": [
       "{'s': None, '1': None}"
      ]
     },
     "execution_count": 4,
     "metadata": {},
     "output_type": "execute_result"
    }
   ],
   "source": [
    "a.fromkeys('s1')"
   ]
  },
  {
   "cell_type": "code",
   "execution_count": 10,
   "id": "d26ffb77",
   "metadata": {},
   "outputs": [],
   "source": [
    "d=dict.fromkeys(('x','y','z'),0)"
   ]
  },
  {
   "cell_type": "code",
   "execution_count": 11,
   "id": "84af2bd7",
   "metadata": {},
   "outputs": [
    {
     "data": {
      "text/plain": [
       "{'x': 0, 'y': 0, 'z': 0}"
      ]
     },
     "execution_count": 11,
     "metadata": {},
     "output_type": "execute_result"
    }
   ],
   "source": [
    "d"
   ]
  }
 ],
 "metadata": {
  "kernelspec": {
   "display_name": "base",
   "language": "python",
   "name": "python3"
  },
  "language_info": {
   "codemirror_mode": {
    "name": "ipython",
    "version": 3
   },
   "file_extension": ".py",
   "mimetype": "text/x-python",
   "name": "python",
   "nbconvert_exporter": "python",
   "pygments_lexer": "ipython3",
   "version": "3.12.4"
  }
 },
 "nbformat": 4,
 "nbformat_minor": 5
}
