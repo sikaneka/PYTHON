{
 "cells": [
  {
   "cell_type": "code",
   "execution_count": 6,
   "id": "414a50e6",
   "metadata": {},
   "outputs": [
    {
     "name": "stdout",
     "output_type": "stream",
     "text": [
      "[1, 2] [1, 2]\n"
     ]
    }
   ],
   "source": [
    "def append_item(item, target_list=[]):\n",
    "    target_list.append(item)\n",
    "    return target_list\n",
    "\n",
    "list1 = append_item(1)\n",
    "list2 = append_item(2)\n",
    "print(list1, list2)  # What gets printed?"
   ]
  },
  {
   "cell_type": "code",
   "execution_count": 4,
   "id": "70b2c2de",
   "metadata": {},
   "outputs": [
    {
     "name": "stdout",
     "output_type": "stream",
     "text": [
      "[0, 1, 2]\n"
     ]
    }
   ],
   "source": [
    "x = \"global\"\n",
    "def test():\n",
    "    x = \"local\"\n",
    "    return [x for x in range(3)]\n",
    "\n",
    "result = test()\n",
    "print(result)  # What's in the result?\n",
    "# Does the local x get modified?"
   ]
  },
  {
   "cell_type": "code",
   "execution_count": 5,
   "id": "773666e2",
   "metadata": {},
   "outputs": [
    {
     "name": "stdout",
     "output_type": "stream",
     "text": [
      "[2, 2, 2]\n"
     ]
    }
   ],
   "source": [
    "funcs = []\n",
    "for i in range(3):\n",
    "    funcs.append(lambda: i)\n",
    "\n",
    "\n",
    "print([f() for f in funcs]) "
   ]
  }
 ],
 "metadata": {
  "kernelspec": {
   "display_name": "base",
   "language": "python",
   "name": "python3"
  },
  "language_info": {
   "codemirror_mode": {
    "name": "ipython",
    "version": 3
   },
   "file_extension": ".py",
   "mimetype": "text/x-python",
   "name": "python",
   "nbconvert_exporter": "python",
   "pygments_lexer": "ipython3",
   "version": "3.12.4"
  }
 },
 "nbformat": 4,
 "nbformat_minor": 5
}
